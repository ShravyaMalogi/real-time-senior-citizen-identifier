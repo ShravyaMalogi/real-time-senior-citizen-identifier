{
  "metadata": {
    "kernelspec": {
      "display_name": "Python 3",
      "name": "python3"
    },
    "language_info": {
      "name": "python",
      "version": "3.11.11",
      "mimetype": "text/x-python",
      "codemirror_mode": {
        "name": "ipython",
        "version": 3
      },
      "pygments_lexer": "ipython3",
      "nbconvert_exporter": "python",
      "file_extension": ".py"
    },
    "kaggle": {
      "accelerator": "none",
      "dataSources": [
        {
          "sourceId": 78156,
          "sourceType": "datasetVersion",
          "datasetId": 44109
        }
      ],
      "dockerImageVersionId": 31012,
      "isInternetEnabled": false,
      "language": "python",
      "sourceType": "notebook",
      "isGpuEnabled": false
    },
    "colab": {
      "provenance": [],
      "gpuType": "T4"
    },
    "accelerator": "GPU"
  },
  "nbformat_minor": 0,
  "nbformat": 4,
  "cells": [
    {
      "source": [
        "import kagglehub\n",
        "jangedoo_utkface_new_path = kagglehub.dataset_download('jangedoo/utkface-new')\n",
        "\n",
        "print('Data source import complete.')\n"
      ],
      "metadata": {
        "id": "p1PFyAbXBwtE",
        "colab": {
          "base_uri": "https://localhost:8080/"
        },
        "outputId": "a61b115a-909e-48c8-c58a-6a0ecb0e98fa"
      },
      "cell_type": "code",
      "outputs": [
        {
          "output_type": "stream",
          "name": "stdout",
          "text": [
            "Data source import complete.\n"
          ]
        }
      ],
      "execution_count": null
    },
    {
      "cell_type": "code",
      "source": [
        "import os, logging\n",
        "os.environ['TF_CPP_MIN_LOG_LEVEL'] = '2'\n",
        "logging.getLogger('absl').setLevel(logging.ERROR)\n",
        "\n",
        "import pandas as pd\n",
        "import numpy as np\n",
        "import os\n",
        "import cv2 as cv\n",
        "from PIL import Image\n",
        "from keras.preprocessing.image import load_img"
      ],
      "metadata": {
        "_uuid": "8f2839f25d086af736a60e9eeb907d3b93b6e0e5",
        "_cell_guid": "b1076dfc-b9ad-4769-8c92-a6c4dae69d19",
        "trusted": true,
        "execution": {
          "iopub.status.busy": "2025-04-26T09:24:53.081864Z",
          "iopub.execute_input": "2025-04-26T09:24:53.082227Z",
          "iopub.status.idle": "2025-04-26T09:25:04.986235Z",
          "shell.execute_reply.started": "2025-04-26T09:24:53.082201Z",
          "shell.execute_reply": "2025-04-26T09:25:04.98508Z"
        },
        "id": "mzUShkmXBwtI"
      },
      "outputs": [],
      "execution_count": null
    },
    {
      "cell_type": "code",
      "source": [
        "import matplotlib.pyplot as plt\n",
        "import seaborn as sns\n",
        "import warnings\n",
        "warnings.filterwarnings('ignore')\n",
        "\n",
        "import tensorflow as tf\n",
        "from keras.models import Sequential, Model\n",
        "from keras.layers import Dense,Conv2D,Dropout,Flatten,MaxPooling2D,Input\n",
        "\n",
        "from tensorflow.keras.utils import plot_model\n",
        "from pathlib import Path\n",
        "from sklearn.model_selection import train_test_split\n",
        "from tensorflow.keras.initializers import random_uniform,glorot_uniform,constant,identity\n",
        "from tensorflow.keras.layers import Add,BatchNormalization,GlobalMaxPooling2D\n",
        "from tensorflow.keras.callbacks import ModelCheckpoint,EarlyStopping\n",
        "from tensorflow.keras import datasets,layers,models"
      ],
      "metadata": {
        "trusted": true,
        "execution": {
          "iopub.status.busy": "2025-04-26T09:25:04.988055Z",
          "iopub.execute_input": "2025-04-26T09:25:04.988765Z",
          "iopub.status.idle": "2025-04-26T09:25:06.447947Z",
          "shell.execute_reply.started": "2025-04-26T09:25:04.988729Z",
          "shell.execute_reply": "2025-04-26T09:25:06.447013Z"
        },
        "id": "iWfaekhHBwtL"
      },
      "outputs": [],
      "execution_count": null
    },
    {
      "cell_type": "code",
      "source": [
        "BASE_DIRS = [r'/kaggle/input/utkface-new/UTKFace']"
      ],
      "metadata": {
        "trusted": true,
        "execution": {
          "iopub.status.busy": "2025-04-26T09:25:06.448947Z",
          "iopub.execute_input": "2025-04-26T09:25:06.449529Z",
          "iopub.status.idle": "2025-04-26T09:25:06.45421Z",
          "shell.execute_reply.started": "2025-04-26T09:25:06.449493Z",
          "shell.execute_reply": "2025-04-26T09:25:06.453155Z"
        },
        "id": "J9YLMG3HBwtN"
      },
      "outputs": [],
      "execution_count": null
    },
    {
      "cell_type": "code",
      "source": [
        "image_paths = []\n",
        "age_labels = []\n",
        "gender_labels = []"
      ],
      "metadata": {
        "trusted": true,
        "execution": {
          "iopub.status.busy": "2025-04-26T09:25:06.456624Z",
          "iopub.execute_input": "2025-04-26T09:25:06.45691Z",
          "iopub.status.idle": "2025-04-26T09:25:06.473228Z",
          "shell.execute_reply.started": "2025-04-26T09:25:06.456888Z",
          "shell.execute_reply": "2025-04-26T09:25:06.472175Z"
        },
        "id": "zUsqsK5dBwtO"
      },
      "outputs": [],
      "execution_count": null
    },
    {
      "cell_type": "code",
      "source": [
        "!pip install -q tqdm\n",
        "from tqdm import tqdm"
      ],
      "metadata": {
        "trusted": true,
        "execution": {
          "iopub.status.busy": "2025-04-26T09:25:06.474137Z",
          "iopub.execute_input": "2025-04-26T09:25:06.474404Z",
          "iopub.status.idle": "2025-04-26T09:25:11.43242Z",
          "shell.execute_reply.started": "2025-04-26T09:25:06.474383Z",
          "shell.execute_reply": "2025-04-26T09:25:11.431132Z"
        },
        "id": "thrn7CxPBwtO"
      },
      "outputs": [],
      "execution_count": null
    },
    {
      "cell_type": "code",
      "source": [
        "for BASE_DIR in BASE_DIRS:\n",
        "    for filename in tqdm(os.listdir(BASE_DIR)):\n",
        "        temp = filename.split('_')\n",
        "        if temp[0].isdigit():\n",
        "            age = int(temp[0])\n",
        "            gender = int(temp[1])\n",
        "            image_path = os.path.join(BASE_DIR,filename)\n",
        "            image_paths.append(image_path)\n",
        "            age_labels.append(age)\n",
        "            gender_labels.append(gender)"
      ],
      "metadata": {
        "trusted": true,
        "execution": {
          "iopub.status.busy": "2025-04-26T09:25:11.433936Z",
          "iopub.execute_input": "2025-04-26T09:25:11.434313Z",
          "iopub.status.idle": "2025-04-26T09:25:11.891882Z",
          "shell.execute_reply.started": "2025-04-26T09:25:11.434283Z",
          "shell.execute_reply": "2025-04-26T09:25:11.891063Z"
        },
        "id": "WJBRHFLIBwtP",
        "outputId": "768cf535-ac66-44f3-ad0e-b571411dca9f",
        "colab": {
          "base_uri": "https://localhost:8080/"
        }
      },
      "outputs": [
        {
          "output_type": "stream",
          "name": "stderr",
          "text": [
            "100%|██████████| 23708/23708 [00:00<00:00, 579722.02it/s]\n"
          ]
        }
      ],
      "execution_count": null
    },
    {
      "cell_type": "code",
      "source": [
        "print(len(image_paths), len(age_labels), len(gender_labels))\n"
      ],
      "metadata": {
        "trusted": true,
        "execution": {
          "iopub.status.busy": "2025-04-26T09:25:11.893488Z",
          "iopub.execute_input": "2025-04-26T09:25:11.893916Z",
          "iopub.status.idle": "2025-04-26T09:25:11.899244Z",
          "shell.execute_reply.started": "2025-04-26T09:25:11.893886Z",
          "shell.execute_reply": "2025-04-26T09:25:11.898145Z"
        },
        "id": "WHeXu6Y8BwtQ",
        "outputId": "06c5cb8d-cd17-442f-d19c-715c37798081",
        "colab": {
          "base_uri": "https://localhost:8080/"
        }
      },
      "outputs": [
        {
          "output_type": "stream",
          "name": "stdout",
          "text": [
            "23708 23708 23708\n"
          ]
        }
      ],
      "execution_count": null
    },
    {
      "cell_type": "code",
      "source": [
        "df = pd.DataFrame()\n",
        "df['image'], df['age'], df['gender'] = image_paths, age_labels, gender_labels\n",
        "df.head()"
      ],
      "metadata": {
        "trusted": true,
        "execution": {
          "iopub.status.busy": "2025-04-26T09:25:11.900361Z",
          "iopub.execute_input": "2025-04-26T09:25:11.900659Z",
          "iopub.status.idle": "2025-04-26T09:25:11.962839Z",
          "shell.execute_reply.started": "2025-04-26T09:25:11.900631Z",
          "shell.execute_reply": "2025-04-26T09:25:11.961943Z"
        },
        "id": "hPHpPfGdBwtR",
        "outputId": "04b9e541-79a7-44f8-c94d-7cda99c3c1cc",
        "colab": {
          "base_uri": "https://localhost:8080/",
          "height": 206
        }
      },
      "outputs": [
        {
          "output_type": "execute_result",
          "data": {
            "text/plain": [
              "                                               image  age  gender\n",
              "0  /kaggle/input/utkface-new/UTKFace/26_0_2_20170...   26       0\n",
              "1  /kaggle/input/utkface-new/UTKFace/22_1_1_20170...   22       1\n",
              "2  /kaggle/input/utkface-new/UTKFace/21_1_3_20170...   21       1\n",
              "3  /kaggle/input/utkface-new/UTKFace/28_0_0_20170...   28       0\n",
              "4  /kaggle/input/utkface-new/UTKFace/17_1_4_20170...   17       1"
            ],
            "text/html": [
              "\n",
              "  <div id=\"df-276255db-ee19-44f9-9c4e-290d8e73ceba\" class=\"colab-df-container\">\n",
              "    <div>\n",
              "<style scoped>\n",
              "    .dataframe tbody tr th:only-of-type {\n",
              "        vertical-align: middle;\n",
              "    }\n",
              "\n",
              "    .dataframe tbody tr th {\n",
              "        vertical-align: top;\n",
              "    }\n",
              "\n",
              "    .dataframe thead th {\n",
              "        text-align: right;\n",
              "    }\n",
              "</style>\n",
              "<table border=\"1\" class=\"dataframe\">\n",
              "  <thead>\n",
              "    <tr style=\"text-align: right;\">\n",
              "      <th></th>\n",
              "      <th>image</th>\n",
              "      <th>age</th>\n",
              "      <th>gender</th>\n",
              "    </tr>\n",
              "  </thead>\n",
              "  <tbody>\n",
              "    <tr>\n",
              "      <th>0</th>\n",
              "      <td>/kaggle/input/utkface-new/UTKFace/26_0_2_20170...</td>\n",
              "      <td>26</td>\n",
              "      <td>0</td>\n",
              "    </tr>\n",
              "    <tr>\n",
              "      <th>1</th>\n",
              "      <td>/kaggle/input/utkface-new/UTKFace/22_1_1_20170...</td>\n",
              "      <td>22</td>\n",
              "      <td>1</td>\n",
              "    </tr>\n",
              "    <tr>\n",
              "      <th>2</th>\n",
              "      <td>/kaggle/input/utkface-new/UTKFace/21_1_3_20170...</td>\n",
              "      <td>21</td>\n",
              "      <td>1</td>\n",
              "    </tr>\n",
              "    <tr>\n",
              "      <th>3</th>\n",
              "      <td>/kaggle/input/utkface-new/UTKFace/28_0_0_20170...</td>\n",
              "      <td>28</td>\n",
              "      <td>0</td>\n",
              "    </tr>\n",
              "    <tr>\n",
              "      <th>4</th>\n",
              "      <td>/kaggle/input/utkface-new/UTKFace/17_1_4_20170...</td>\n",
              "      <td>17</td>\n",
              "      <td>1</td>\n",
              "    </tr>\n",
              "  </tbody>\n",
              "</table>\n",
              "</div>\n",
              "    <div class=\"colab-df-buttons\">\n",
              "\n",
              "  <div class=\"colab-df-container\">\n",
              "    <button class=\"colab-df-convert\" onclick=\"convertToInteractive('df-276255db-ee19-44f9-9c4e-290d8e73ceba')\"\n",
              "            title=\"Convert this dataframe to an interactive table.\"\n",
              "            style=\"display:none;\">\n",
              "\n",
              "  <svg xmlns=\"http://www.w3.org/2000/svg\" height=\"24px\" viewBox=\"0 -960 960 960\">\n",
              "    <path d=\"M120-120v-720h720v720H120Zm60-500h600v-160H180v160Zm220 220h160v-160H400v160Zm0 220h160v-160H400v160ZM180-400h160v-160H180v160Zm440 0h160v-160H620v160ZM180-180h160v-160H180v160Zm440 0h160v-160H620v160Z\"/>\n",
              "  </svg>\n",
              "    </button>\n",
              "\n",
              "  <style>\n",
              "    .colab-df-container {\n",
              "      display:flex;\n",
              "      gap: 12px;\n",
              "    }\n",
              "\n",
              "    .colab-df-convert {\n",
              "      background-color: #E8F0FE;\n",
              "      border: none;\n",
              "      border-radius: 50%;\n",
              "      cursor: pointer;\n",
              "      display: none;\n",
              "      fill: #1967D2;\n",
              "      height: 32px;\n",
              "      padding: 0 0 0 0;\n",
              "      width: 32px;\n",
              "    }\n",
              "\n",
              "    .colab-df-convert:hover {\n",
              "      background-color: #E2EBFA;\n",
              "      box-shadow: 0px 1px 2px rgba(60, 64, 67, 0.3), 0px 1px 3px 1px rgba(60, 64, 67, 0.15);\n",
              "      fill: #174EA6;\n",
              "    }\n",
              "\n",
              "    .colab-df-buttons div {\n",
              "      margin-bottom: 4px;\n",
              "    }\n",
              "\n",
              "    [theme=dark] .colab-df-convert {\n",
              "      background-color: #3B4455;\n",
              "      fill: #D2E3FC;\n",
              "    }\n",
              "\n",
              "    [theme=dark] .colab-df-convert:hover {\n",
              "      background-color: #434B5C;\n",
              "      box-shadow: 0px 1px 3px 1px rgba(0, 0, 0, 0.15);\n",
              "      filter: drop-shadow(0px 1px 2px rgba(0, 0, 0, 0.3));\n",
              "      fill: #FFFFFF;\n",
              "    }\n",
              "  </style>\n",
              "\n",
              "    <script>\n",
              "      const buttonEl =\n",
              "        document.querySelector('#df-276255db-ee19-44f9-9c4e-290d8e73ceba button.colab-df-convert');\n",
              "      buttonEl.style.display =\n",
              "        google.colab.kernel.accessAllowed ? 'block' : 'none';\n",
              "\n",
              "      async function convertToInteractive(key) {\n",
              "        const element = document.querySelector('#df-276255db-ee19-44f9-9c4e-290d8e73ceba');\n",
              "        const dataTable =\n",
              "          await google.colab.kernel.invokeFunction('convertToInteractive',\n",
              "                                                    [key], {});\n",
              "        if (!dataTable) return;\n",
              "\n",
              "        const docLinkHtml = 'Like what you see? Visit the ' +\n",
              "          '<a target=\"_blank\" href=https://colab.research.google.com/notebooks/data_table.ipynb>data table notebook</a>'\n",
              "          + ' to learn more about interactive tables.';\n",
              "        element.innerHTML = '';\n",
              "        dataTable['output_type'] = 'display_data';\n",
              "        await google.colab.output.renderOutput(dataTable, element);\n",
              "        const docLink = document.createElement('div');\n",
              "        docLink.innerHTML = docLinkHtml;\n",
              "        element.appendChild(docLink);\n",
              "      }\n",
              "    </script>\n",
              "  </div>\n",
              "\n",
              "\n",
              "    <div id=\"df-a9ecc8b9-d33e-4429-813b-1dccdc18baef\">\n",
              "      <button class=\"colab-df-quickchart\" onclick=\"quickchart('df-a9ecc8b9-d33e-4429-813b-1dccdc18baef')\"\n",
              "                title=\"Suggest charts\"\n",
              "                style=\"display:none;\">\n",
              "\n",
              "<svg xmlns=\"http://www.w3.org/2000/svg\" height=\"24px\"viewBox=\"0 0 24 24\"\n",
              "     width=\"24px\">\n",
              "    <g>\n",
              "        <path d=\"M19 3H5c-1.1 0-2 .9-2 2v14c0 1.1.9 2 2 2h14c1.1 0 2-.9 2-2V5c0-1.1-.9-2-2-2zM9 17H7v-7h2v7zm4 0h-2V7h2v10zm4 0h-2v-4h2v4z\"/>\n",
              "    </g>\n",
              "</svg>\n",
              "      </button>\n",
              "\n",
              "<style>\n",
              "  .colab-df-quickchart {\n",
              "      --bg-color: #E8F0FE;\n",
              "      --fill-color: #1967D2;\n",
              "      --hover-bg-color: #E2EBFA;\n",
              "      --hover-fill-color: #174EA6;\n",
              "      --disabled-fill-color: #AAA;\n",
              "      --disabled-bg-color: #DDD;\n",
              "  }\n",
              "\n",
              "  [theme=dark] .colab-df-quickchart {\n",
              "      --bg-color: #3B4455;\n",
              "      --fill-color: #D2E3FC;\n",
              "      --hover-bg-color: #434B5C;\n",
              "      --hover-fill-color: #FFFFFF;\n",
              "      --disabled-bg-color: #3B4455;\n",
              "      --disabled-fill-color: #666;\n",
              "  }\n",
              "\n",
              "  .colab-df-quickchart {\n",
              "    background-color: var(--bg-color);\n",
              "    border: none;\n",
              "    border-radius: 50%;\n",
              "    cursor: pointer;\n",
              "    display: none;\n",
              "    fill: var(--fill-color);\n",
              "    height: 32px;\n",
              "    padding: 0;\n",
              "    width: 32px;\n",
              "  }\n",
              "\n",
              "  .colab-df-quickchart:hover {\n",
              "    background-color: var(--hover-bg-color);\n",
              "    box-shadow: 0 1px 2px rgba(60, 64, 67, 0.3), 0 1px 3px 1px rgba(60, 64, 67, 0.15);\n",
              "    fill: var(--button-hover-fill-color);\n",
              "  }\n",
              "\n",
              "  .colab-df-quickchart-complete:disabled,\n",
              "  .colab-df-quickchart-complete:disabled:hover {\n",
              "    background-color: var(--disabled-bg-color);\n",
              "    fill: var(--disabled-fill-color);\n",
              "    box-shadow: none;\n",
              "  }\n",
              "\n",
              "  .colab-df-spinner {\n",
              "    border: 2px solid var(--fill-color);\n",
              "    border-color: transparent;\n",
              "    border-bottom-color: var(--fill-color);\n",
              "    animation:\n",
              "      spin 1s steps(1) infinite;\n",
              "  }\n",
              "\n",
              "  @keyframes spin {\n",
              "    0% {\n",
              "      border-color: transparent;\n",
              "      border-bottom-color: var(--fill-color);\n",
              "      border-left-color: var(--fill-color);\n",
              "    }\n",
              "    20% {\n",
              "      border-color: transparent;\n",
              "      border-left-color: var(--fill-color);\n",
              "      border-top-color: var(--fill-color);\n",
              "    }\n",
              "    30% {\n",
              "      border-color: transparent;\n",
              "      border-left-color: var(--fill-color);\n",
              "      border-top-color: var(--fill-color);\n",
              "      border-right-color: var(--fill-color);\n",
              "    }\n",
              "    40% {\n",
              "      border-color: transparent;\n",
              "      border-right-color: var(--fill-color);\n",
              "      border-top-color: var(--fill-color);\n",
              "    }\n",
              "    60% {\n",
              "      border-color: transparent;\n",
              "      border-right-color: var(--fill-color);\n",
              "    }\n",
              "    80% {\n",
              "      border-color: transparent;\n",
              "      border-right-color: var(--fill-color);\n",
              "      border-bottom-color: var(--fill-color);\n",
              "    }\n",
              "    90% {\n",
              "      border-color: transparent;\n",
              "      border-bottom-color: var(--fill-color);\n",
              "    }\n",
              "  }\n",
              "</style>\n",
              "\n",
              "      <script>\n",
              "        async function quickchart(key) {\n",
              "          const quickchartButtonEl =\n",
              "            document.querySelector('#' + key + ' button');\n",
              "          quickchartButtonEl.disabled = true;  // To prevent multiple clicks.\n",
              "          quickchartButtonEl.classList.add('colab-df-spinner');\n",
              "          try {\n",
              "            const charts = await google.colab.kernel.invokeFunction(\n",
              "                'suggestCharts', [key], {});\n",
              "          } catch (error) {\n",
              "            console.error('Error during call to suggestCharts:', error);\n",
              "          }\n",
              "          quickchartButtonEl.classList.remove('colab-df-spinner');\n",
              "          quickchartButtonEl.classList.add('colab-df-quickchart-complete');\n",
              "        }\n",
              "        (() => {\n",
              "          let quickchartButtonEl =\n",
              "            document.querySelector('#df-a9ecc8b9-d33e-4429-813b-1dccdc18baef button');\n",
              "          quickchartButtonEl.style.display =\n",
              "            google.colab.kernel.accessAllowed ? 'block' : 'none';\n",
              "        })();\n",
              "      </script>\n",
              "    </div>\n",
              "\n",
              "    </div>\n",
              "  </div>\n"
            ],
            "application/vnd.google.colaboratory.intrinsic+json": {
              "type": "dataframe",
              "variable_name": "df",
              "summary": "{\n  \"name\": \"df\",\n  \"rows\": 23708,\n  \"fields\": [\n    {\n      \"column\": \"image\",\n      \"properties\": {\n        \"dtype\": \"string\",\n        \"num_unique_values\": 23708,\n        \"samples\": [\n          \"/kaggle/input/utkface-new/UTKFace/85_0_0_20170111210408610.jpg.chip.jpg\",\n          \"/kaggle/input/utkface-new/UTKFace/24_1_3_20170104222753607.jpg.chip.jpg\",\n          \"/kaggle/input/utkface-new/UTKFace/8_0_4_20170103200427437.jpg.chip.jpg\"\n        ],\n        \"semantic_type\": \"\",\n        \"description\": \"\"\n      }\n    },\n    {\n      \"column\": \"age\",\n      \"properties\": {\n        \"dtype\": \"number\",\n        \"std\": 19,\n        \"min\": 1,\n        \"max\": 116,\n        \"num_unique_values\": 104,\n        \"samples\": [\n          63,\n          56,\n          55\n        ],\n        \"semantic_type\": \"\",\n        \"description\": \"\"\n      }\n    },\n    {\n      \"column\": \"gender\",\n      \"properties\": {\n        \"dtype\": \"number\",\n        \"std\": 0,\n        \"min\": 0,\n        \"max\": 1,\n        \"num_unique_values\": 2,\n        \"samples\": [\n          1,\n          0\n        ],\n        \"semantic_type\": \"\",\n        \"description\": \"\"\n      }\n    }\n  ]\n}"
            }
          },
          "metadata": {},
          "execution_count": 9
        }
      ],
      "execution_count": null
    },
    {
      "cell_type": "code",
      "source": [
        "print(f\"DataFrame:{df}\")\n",
        "print(f\"DataFrame shape:{df.shape}\")\n",
        "print(f\"first few rows of the dataframe:{df.head()}\")"
      ],
      "metadata": {
        "trusted": true,
        "execution": {
          "iopub.status.busy": "2025-04-26T09:25:11.963743Z",
          "iopub.execute_input": "2025-04-26T09:25:11.964016Z",
          "iopub.status.idle": "2025-04-26T09:25:11.976954Z",
          "shell.execute_reply.started": "2025-04-26T09:25:11.963995Z",
          "shell.execute_reply": "2025-04-26T09:25:11.975953Z"
        },
        "id": "RPc0FD_QBwtS",
        "outputId": "335a3439-4b86-4919-a36b-bab606276ec9",
        "colab": {
          "base_uri": "https://localhost:8080/"
        }
      },
      "outputs": [
        {
          "output_type": "stream",
          "name": "stdout",
          "text": [
            "DataFrame:                                                   image  age  gender\n",
            "0      /kaggle/input/utkface-new/UTKFace/26_0_2_20170...   26       0\n",
            "1      /kaggle/input/utkface-new/UTKFace/22_1_1_20170...   22       1\n",
            "2      /kaggle/input/utkface-new/UTKFace/21_1_3_20170...   21       1\n",
            "3      /kaggle/input/utkface-new/UTKFace/28_0_0_20170...   28       0\n",
            "4      /kaggle/input/utkface-new/UTKFace/17_1_4_20170...   17       1\n",
            "...                                                  ...  ...     ...\n",
            "23703  /kaggle/input/utkface-new/UTKFace/41_0_0_20170...   41       0\n",
            "23704  /kaggle/input/utkface-new/UTKFace/42_0_0_20170...   42       0\n",
            "23705  /kaggle/input/utkface-new/UTKFace/2_0_2_201612...    2       0\n",
            "23706  /kaggle/input/utkface-new/UTKFace/65_1_0_20170...   65       1\n",
            "23707  /kaggle/input/utkface-new/UTKFace/66_0_1_20170...   66       0\n",
            "\n",
            "[23708 rows x 3 columns]\n",
            "DataFrame shape:(23708, 3)\n",
            "first few rows of the dataframe:                                               image  age  gender\n",
            "0  /kaggle/input/utkface-new/UTKFace/26_0_2_20170...   26       0\n",
            "1  /kaggle/input/utkface-new/UTKFace/22_1_1_20170...   22       1\n",
            "2  /kaggle/input/utkface-new/UTKFace/21_1_3_20170...   21       1\n",
            "3  /kaggle/input/utkface-new/UTKFace/28_0_0_20170...   28       0\n",
            "4  /kaggle/input/utkface-new/UTKFace/17_1_4_20170...   17       1\n"
          ]
        }
      ],
      "execution_count": null
    },
    {
      "cell_type": "code",
      "source": [
        "gender_dict = {0:'Male', 1:'Female'}"
      ],
      "metadata": {
        "trusted": true,
        "execution": {
          "iopub.status.busy": "2025-04-26T09:25:11.980608Z",
          "iopub.execute_input": "2025-04-26T09:25:11.981296Z",
          "iopub.status.idle": "2025-04-26T09:25:11.991483Z",
          "shell.execute_reply.started": "2025-04-26T09:25:11.98126Z",
          "shell.execute_reply": "2025-04-26T09:25:11.990498Z"
        },
        "id": "1kCebppRBwtS"
      },
      "outputs": [],
      "execution_count": null
    },
    {
      "cell_type": "code",
      "source": [
        "if not df.empty:\n",
        "    try:\n",
        "        img = Image.open(df['image'][0])\n",
        "        plt.axis('off')\n",
        "        plt.imshow(img)\n",
        "        plt.show()\n",
        "    except Exception as e:\n",
        "        print(f\"Error opening image:{e}\")\n",
        "else:\n",
        "    print(f\"Dataframe is empty, no images found.\")"
      ],
      "metadata": {
        "trusted": true,
        "execution": {
          "iopub.status.busy": "2025-04-26T09:25:11.992574Z",
          "iopub.execute_input": "2025-04-26T09:25:11.992926Z",
          "iopub.status.idle": "2025-04-26T09:25:12.201724Z",
          "shell.execute_reply.started": "2025-04-26T09:25:11.992896Z",
          "shell.execute_reply": "2025-04-26T09:25:12.200588Z"
        },
        "id": "oCdUmPBjBwtT",
        "outputId": "77ca3bfa-1668-46a4-9e23-ac3de2453d98",
        "colab": {
          "base_uri": "https://localhost:8080/",
          "height": 406
        }
      },
      "outputs": [
        {
          "output_type": "display_data",
          "data": {
            "text/plain": [
              "<Figure size 640x480 with 1 Axes>"
            ],
            "image/png": "[encoded data removed]"
          },
          "metadata": {}
        }
      ],
      "execution_count": null
    },
    {
      "cell_type": "code",
      "source": [
        "sns.displot(df['age'],kde=True,bins=30)\n",
        "plt.title(\"Age Distribution\")\n",
        "plt.xlabel(\"Age\")\n",
        "plt.ylabel(\"Frequency\")\n",
        "plt.show()"
      ],
      "metadata": {
        "trusted": true,
        "execution": {
          "iopub.status.busy": "2025-04-26T09:25:12.202809Z",
          "iopub.execute_input": "2025-04-26T09:25:12.203064Z",
          "iopub.status.idle": "2025-04-26T09:25:12.661265Z",
          "shell.execute_reply.started": "2025-04-26T09:25:12.203047Z",
          "shell.execute_reply": "2025-04-26T09:25:12.660326Z"
        },
        "id": "fFYOI89dBwtT",
        "outputId": "fc2b2ea2-5356-41eb-93db-c83b25950887",
        "colab": {
          "base_uri": "https://localhost:8080/",
          "height": 529
        }
      },
      "outputs": [
        {
          "output_type": "display_data",
          "data": {
            "text/plain": [
              "<Figure size 500x500 with 1 Axes>"
            ],
            "image/png": "[encoded data removed]"
          },
          "metadata": {}
        }
      ],
      "execution_count": null
    },
    {
      "cell_type": "code",
      "source": [
        "from PIL import Image"
      ],
      "metadata": {
        "trusted": true,
        "execution": {
          "iopub.status.busy": "2025-04-26T09:25:12.662297Z",
          "iopub.execute_input": "2025-04-26T09:25:12.66261Z",
          "iopub.status.idle": "2025-04-26T09:25:12.667023Z",
          "shell.execute_reply.started": "2025-04-26T09:25:12.662586Z",
          "shell.execute_reply": "2025-04-26T09:25:12.666234Z"
        },
        "id": "0FDJISmjBwtT"
      },
      "outputs": [],
      "execution_count": null
    },
    {
      "cell_type": "code",
      "source": [
        "plt.figure(figsize=(25,25))\n",
        "files = df.iloc[0:25]"
      ],
      "metadata": {
        "trusted": true,
        "execution": {
          "iopub.status.busy": "2025-04-26T09:25:12.66805Z",
          "iopub.execute_input": "2025-04-26T09:25:12.668401Z",
          "iopub.status.idle": "2025-04-26T09:25:12.717506Z",
          "shell.execute_reply.started": "2025-04-26T09:25:12.668374Z",
          "shell.execute_reply": "2025-04-26T09:25:12.716424Z"
        },
        "id": "PJ_q_hiJBwtU",
        "outputId": "db18a41c-fd33-4cf6-e6c6-4b4e09b17353",
        "colab": {
          "base_uri": "https://localhost:8080/",
          "height": 34
        }
      },
      "outputs": [
        {
          "output_type": "display_data",
          "data": {
            "text/plain": [
              "<Figure size 2500x2500 with 0 Axes>"
            ]
          },
          "metadata": {}
        }
      ],
      "execution_count": null
    },
    {
      "cell_type": "code",
      "source": [
        "def extract_feature(images):\n",
        "    features = []\n",
        "    for image in tqdm(images):\n",
        "        img = Image.open(image).convert('L')\n",
        "        img = img.resize((128, 128), Image.BILINEAR)\n",
        "\n",
        "        img = np.array(img)\n",
        "        features.append(img)\n",
        "\n",
        "    features = np.array(features)\n",
        "\n",
        "    features = features.reshape(len(features),128,128,1)\n",
        "    return features"
      ],
      "metadata": {
        "trusted": true,
        "execution": {
          "iopub.status.busy": "2025-04-26T09:25:12.718545Z",
          "iopub.execute_input": "2025-04-26T09:25:12.718822Z",
          "iopub.status.idle": "2025-04-26T09:25:12.728076Z",
          "shell.execute_reply.started": "2025-04-26T09:25:12.718803Z",
          "shell.execute_reply": "2025-04-26T09:25:12.726968Z"
        },
        "id": "d3MZ4fuPBwtU"
      },
      "outputs": [],
      "execution_count": null
    },
    {
      "cell_type": "code",
      "source": [
        "X = extract_feature(df['image'])\n",
        "print(f\"X_shape: \\t{X.shape}\")"
      ],
      "metadata": {
        "trusted": true,
        "execution": {
          "iopub.status.busy": "2025-04-26T09:25:12.729246Z",
          "iopub.execute_input": "2025-04-26T09:25:12.729599Z",
          "iopub.status.idle": "2025-04-26T09:28:06.435036Z",
          "shell.execute_reply.started": "2025-04-26T09:25:12.729569Z",
          "shell.execute_reply": "2025-04-26T09:28:06.43366Z"
        },
        "id": "IpL1EIvcBwtU",
        "outputId": "b331b5c8-1cdb-4f8e-e92b-6b77c3e29bb1",
        "colab": {
          "base_uri": "https://localhost:8080/"
        }
      },
      "outputs": [
        {
          "output_type": "stream",
          "name": "stderr",
          "text": [
            "100%|██████████| 23708/23708 [01:08<00:00, 344.39it/s]\n"
          ]
        },
        {
          "output_type": "stream",
          "name": "stdout",
          "text": [
            "X_shape: \t(23708, 128, 128, 1)\n"
          ]
        }
      ],
      "execution_count": null
    },
    {
      "cell_type": "code",
      "source": [
        "X = X/255.0\n",
        "y_gender = np.array(df['gender'])\n",
        "y_age = np.array(df['age'])\n",
        "\n",
        "print(\"shape of y_gender:\", y_gender.shape)\n",
        "print(\"shape of y_age:\", y_age.shape)"
      ],
      "metadata": {
        "trusted": true,
        "execution": {
          "iopub.status.busy": "2025-04-26T09:28:06.436523Z",
          "iopub.execute_input": "2025-04-26T09:28:06.436911Z",
          "iopub.status.idle": "2025-04-26T09:28:12.453588Z",
          "shell.execute_reply.started": "2025-04-26T09:28:06.436877Z",
          "shell.execute_reply": "2025-04-26T09:28:12.452751Z"
        },
        "id": "94vfL_U3BwtV",
        "outputId": "5713db16-c52f-45c7-bc46-0abe30cbcc8a",
        "colab": {
          "base_uri": "https://localhost:8080/"
        }
      },
      "outputs": [
        {
          "output_type": "stream",
          "name": "stdout",
          "text": [
            "shape of y_gender: (23708,)\n",
            "shape of y_age: (23708,)\n"
          ]
        }
      ],
      "execution_count": null
    },
    {
      "cell_type": "code",
      "source": [
        "input_shape = (128,128,1)\n",
        "inputs = Input(input_shape)\n",
        "\n",
        "conv1 = Conv2D(32,kernel_size=(3,3),activation='relu')(inputs)\n",
        "maxp1 = MaxPooling2D(pool_size=(2,2))(conv1)\n",
        "\n",
        "conv2 = Conv2D(64,kernel_size=(3,3),activation='relu')(maxp1)\n",
        "maxp2 = MaxPooling2D(pool_size=(2,2))(conv2)\n",
        "\n",
        "conv3 = Conv2D(128,kernel_size=(3,3),activation='relu')(maxp2)\n",
        "maxp3 = MaxPooling2D(pool_size=(2,2))(conv3)\n",
        "\n",
        "conv4 = Conv2D(256,kernel_size=(3,3),activation='relu')(maxp3)\n",
        "maxp4 = MaxPooling2D(pool_size=(2,2))(conv4)\n",
        "\n",
        "flatten = Flatten()(maxp4)\n",
        "\n",
        "dense1 = Dense(256,activation='relu')(flatten)\n",
        "dense2 = Dense(256,activation='relu')(flatten)\n",
        "\n",
        "dropout1 = Dropout(0.3)(dense1)\n",
        "dropout2 = Dropout(0.3)(dense2)\n",
        "\n",
        "output1 = Dense(1,activation='sigmoid', name='gender_out')(dropout1)\n",
        "output2 = Dense(1,activation='relu', name='age_out')(dropout2)\n",
        "\n",
        "model = Model(inputs=inputs, outputs=[output1,output2])\n",
        "\n",
        "model.summary()"
      ],
      "metadata": {
        "trusted": true,
        "execution": {
          "iopub.status.busy": "2025-04-26T09:28:12.454748Z",
          "iopub.execute_input": "2025-04-26T09:28:12.454988Z",
          "iopub.status.idle": "2025-04-26T09:28:12.661722Z",
          "shell.execute_reply.started": "2025-04-26T09:28:12.45497Z",
          "shell.execute_reply": "2025-04-26T09:28:12.660757Z"
        },
        "id": "54v1M0wLBwtW",
        "outputId": "8fa35165-c1ee-47fb-cbf1-88e32482ed32",
        "colab": {
          "base_uri": "https://localhost:8080/",
          "height": 833
        }
      },
      "outputs": [
        {
          "output_type": "display_data",
          "data": {
            "text/plain": [
              "\u001b[1mModel: \"functional\"\u001b[0m\n"
            ],
            "text/html": [
              "<pre style=\"white-space:pre;overflow-x:auto;line-height:normal;font-family:Menlo,'DejaVu Sans Mono',consolas,'Courier New',monospace\"><span style=\"font-weight: bold\">Model: \"functional\"</span>\n",
              "</pre>\n"
            ]
          },
          "metadata": {}
        },
        {
          "output_type": "display_data",
          "data": {
            "text/plain": [
              "┏━━━━━━━━━━━━━━━━━━━━━┳━━━━━━━━━━━━━━━━━━━┳━━━━━━━━━━━━┳━━━━━━━━━━━━━━━━━━━┓\n",
              "┃\u001b[1m \u001b[0m\u001b[1mLayer (type)       \u001b[0m\u001b[1m \u001b[0m┃\u001b[1m \u001b[0m\u001b[1mOutput Shape     \u001b[0m\u001b[1m \u001b[0m┃\u001b[1m \u001b[0m\u001b[1m   Param #\u001b[0m\u001b[1m \u001b[0m┃\u001b[1m \u001b[0m\u001b[1mConnected to     \u001b[0m\u001b[1m \u001b[0m┃\n",
              "┡━━━━━━━━━━━━━━━━━━━━━╇━━━━━━━━━━━━━━━━━━━╇━━━━━━━━━━━━╇━━━━━━━━━━━━━━━━━━━┩\n",
              "│ input_layer         │ (\u001b[38;5;45mNone\u001b[0m, \u001b[38;5;34m128\u001b[0m, \u001b[38;5;34m128\u001b[0m,  │          \u001b[38;5;34m0\u001b[0m │ -                 │\n",
              "│ (\u001b[38;5;33mInputLayer\u001b[0m)        │ \u001b[38;5;34m1\u001b[0m)                │            │                   │\n",
              "├─────────────────────┼───────────────────┼────────────┼───────────────────┤\n",
              "│ conv2d (\u001b[38;5;33mConv2D\u001b[0m)     │ (\u001b[38;5;45mNone\u001b[0m, \u001b[38;5;34m126\u001b[0m, \u001b[38;5;34m126\u001b[0m,  │        \u001b[38;5;34m320\u001b[0m │ input_layer[\u001b[38;5;34m0\u001b[0m][\u001b[38;5;34m0\u001b[0m] │\n",
              "│                     │ \u001b[38;5;34m32\u001b[0m)               │            │                   │\n",
              "├─────────────────────┼───────────────────┼────────────┼───────────────────┤\n",
              "│ max_pooling2d       │ (\u001b[38;5;45mNone\u001b[0m, \u001b[38;5;34m63\u001b[0m, \u001b[38;5;34m63\u001b[0m,    │          \u001b[38;5;34m0\u001b[0m │ conv2d[\u001b[38;5;34m0\u001b[0m][\u001b[38;5;34m0\u001b[0m]      │\n",
              "│ (\u001b[38;5;33mMaxPooling2D\u001b[0m)      │ \u001b[38;5;34m32\u001b[0m)               │            │                   │\n",
              "├─────────────────────┼───────────────────┼────────────┼───────────────────┤\n",
              "│ conv2d_1 (\u001b[38;5;33mConv2D\u001b[0m)   │ (\u001b[38;5;45mNone\u001b[0m, \u001b[38;5;34m61\u001b[0m, \u001b[38;5;34m61\u001b[0m,    │     \u001b[38;5;34m18,496\u001b[0m │ max_pooling2d[\u001b[38;5;34m0\u001b[0m]… │\n",
              "│                     │ \u001b[38;5;34m64\u001b[0m)               │            │                   │\n",
              "├─────────────────────┼───────────────────┼────────────┼───────────────────┤\n",
              "│ max_pooling2d_1     │ (\u001b[38;5;45mNone\u001b[0m, \u001b[38;5;34m30\u001b[0m, \u001b[38;5;34m30\u001b[0m,    │          \u001b[38;5;34m0\u001b[0m │ conv2d_1[\u001b[38;5;34m0\u001b[0m][\u001b[38;5;34m0\u001b[0m]    │\n",
              "│ (\u001b[38;5;33mMaxPooling2D\u001b[0m)      │ \u001b[38;5;34m64\u001b[0m)               │            │                   │\n",
              "├─────────────────────┼───────────────────┼────────────┼───────────────────┤\n",
              "│ conv2d_2 (\u001b[38;5;33mConv2D\u001b[0m)   │ (\u001b[38;5;45mNone\u001b[0m, \u001b[38;5;34m28\u001b[0m, \u001b[38;5;34m28\u001b[0m,    │     \u001b[38;5;34m73,856\u001b[0m │ max_pooling2d_1[\u001b[38;5;34m…\u001b[0m │\n",
              "│                     │ \u001b[38;5;34m128\u001b[0m)              │            │                   │\n",
              "├─────────────────────┼───────────────────┼────────────┼───────────────────┤\n",
              "│ max_pooling2d_2     │ (\u001b[38;5;45mNone\u001b[0m, \u001b[38;5;34m14\u001b[0m, \u001b[38;5;34m14\u001b[0m,    │          \u001b[38;5;34m0\u001b[0m │ conv2d_2[\u001b[38;5;34m0\u001b[0m][\u001b[38;5;34m0\u001b[0m]    │\n",
              "│ (\u001b[38;5;33mMaxPooling2D\u001b[0m)      │ \u001b[38;5;34m128\u001b[0m)              │            │                   │\n",
              "├─────────────────────┼───────────────────┼────────────┼───────────────────┤\n",
              "│ conv2d_3 (\u001b[38;5;33mConv2D\u001b[0m)   │ (\u001b[38;5;45mNone\u001b[0m, \u001b[38;5;34m12\u001b[0m, \u001b[38;5;34m12\u001b[0m,    │    \u001b[38;5;34m295,168\u001b[0m │ max_pooling2d_2[\u001b[38;5;34m…\u001b[0m │\n",
              "│                     │ \u001b[38;5;34m256\u001b[0m)              │            │                   │\n",
              "├─────────────────────┼───────────────────┼────────────┼───────────────────┤\n",
              "│ max_pooling2d_3     │ (\u001b[38;5;45mNone\u001b[0m, \u001b[38;5;34m6\u001b[0m, \u001b[38;5;34m6\u001b[0m, \u001b[38;5;34m256\u001b[0m) │          \u001b[38;5;34m0\u001b[0m │ conv2d_3[\u001b[38;5;34m0\u001b[0m][\u001b[38;5;34m0\u001b[0m]    │\n",
              "│ (\u001b[38;5;33mMaxPooling2D\u001b[0m)      │                   │            │                   │\n",
              "├─────────────────────┼───────────────────┼────────────┼───────────────────┤\n",
              "│ flatten (\u001b[38;5;33mFlatten\u001b[0m)   │ (\u001b[38;5;45mNone\u001b[0m, \u001b[38;5;34m9216\u001b[0m)      │          \u001b[38;5;34m0\u001b[0m │ max_pooling2d_3[\u001b[38;5;34m…\u001b[0m │\n",
              "├─────────────────────┼───────────────────┼────────────┼───────────────────┤\n",
              "│ dense (\u001b[38;5;33mDense\u001b[0m)       │ (\u001b[38;5;45mNone\u001b[0m, \u001b[38;5;34m256\u001b[0m)       │  \u001b[38;5;34m2,359,552\u001b[0m │ flatten[\u001b[38;5;34m0\u001b[0m][\u001b[38;5;34m0\u001b[0m]     │\n",
              "├─────────────────────┼───────────────────┼────────────┼───────────────────┤\n",
              "│ dense_1 (\u001b[38;5;33mDense\u001b[0m)     │ (\u001b[38;5;45mNone\u001b[0m, \u001b[38;5;34m256\u001b[0m)       │  \u001b[38;5;34m2,359,552\u001b[0m │ flatten[\u001b[38;5;34m0\u001b[0m][\u001b[38;5;34m0\u001b[0m]     │\n",
              "├─────────────────────┼───────────────────┼────────────┼───────────────────┤\n",
              "│ dropout (\u001b[38;5;33mDropout\u001b[0m)   │ (\u001b[38;5;45mNone\u001b[0m, \u001b[38;5;34m256\u001b[0m)       │          \u001b[38;5;34m0\u001b[0m │ dense[\u001b[38;5;34m0\u001b[0m][\u001b[38;5;34m0\u001b[0m]       │\n",
              "├─────────────────────┼───────────────────┼────────────┼───────────────────┤\n",
              "│ dropout_1 (\u001b[38;5;33mDropout\u001b[0m) │ (\u001b[38;5;45mNone\u001b[0m, \u001b[38;5;34m256\u001b[0m)       │          \u001b[38;5;34m0\u001b[0m │ dense_1[\u001b[38;5;34m0\u001b[0m][\u001b[38;5;34m0\u001b[0m]     │\n",
              "├─────────────────────┼───────────────────┼────────────┼───────────────────┤\n",
              "│ gender_out (\u001b[38;5;33mDense\u001b[0m)  │ (\u001b[38;5;45mNone\u001b[0m, \u001b[38;5;34m1\u001b[0m)         │        \u001b[38;5;34m257\u001b[0m │ dropout[\u001b[38;5;34m0\u001b[0m][\u001b[38;5;34m0\u001b[0m]     │\n",
              "├─────────────────────┼───────────────────┼────────────┼───────────────────┤\n",
              "│ age_out (\u001b[38;5;33mDense\u001b[0m)     │ (\u001b[38;5;45mNone\u001b[0m, \u001b[38;5;34m1\u001b[0m)         │        \u001b[38;5;34m257\u001b[0m │ dropout_1[\u001b[38;5;34m0\u001b[0m][\u001b[38;5;34m0\u001b[0m]   │\n",
              "└─────────────────────┴───────────────────┴────────────┴───────────────────┘\n"
            ],
            "text/html": [
              "<pre style=\"white-space:pre;overflow-x:auto;line-height:normal;font-family:Menlo,'DejaVu Sans Mono',consolas,'Courier New',monospace\">┏━━━━━━━━━━━━━━━━━━━━━┳━━━━━━━━━━━━━━━━━━━┳━━━━━━━━━━━━┳━━━━━━━━━━━━━━━━━━━┓\n",
              "┃<span style=\"font-weight: bold\"> Layer (type)        </span>┃<span style=\"font-weight: bold\"> Output Shape      </span>┃<span style=\"font-weight: bold\">    Param # </span>┃<span style=\"font-weight: bold\"> Connected to      </span>┃\n",
              "┡━━━━━━━━━━━━━━━━━━━━━╇━━━━━━━━━━━━━━━━━━━╇━━━━━━━━━━━━╇━━━━━━━━━━━━━━━━━━━┩\n",
              "│ input_layer         │ (<span style=\"color: #00d7ff; text-decoration-color: #00d7ff\">None</span>, <span style=\"color: #00af00; text-decoration-color: #00af00\">128</span>, <span style=\"color: #00af00; text-decoration-color: #00af00\">128</span>,  │          <span style=\"color: #00af00; text-decoration-color: #00af00\">0</span> │ -                 │\n",
              "│ (<span style=\"color: #0087ff; text-decoration-color: #0087ff\">InputLayer</span>)        │ <span style=\"color: #00af00; text-decoration-color: #00af00\">1</span>)                │            │                   │\n",
              "├─────────────────────┼───────────────────┼────────────┼───────────────────┤\n",
              "│ conv2d (<span style=\"color: #0087ff; text-decoration-color: #0087ff\">Conv2D</span>)     │ (<span style=\"color: #00d7ff; text-decoration-color: #00d7ff\">None</span>, <span style=\"color: #00af00; text-decoration-color: #00af00\">126</span>, <span style=\"color: #00af00; text-decoration-color: #00af00\">126</span>,  │        <span style=\"color: #00af00; text-decoration-color: #00af00\">320</span> │ input_layer[<span style=\"color: #00af00; text-decoration-color: #00af00\">0</span>][<span style=\"color: #00af00; text-decoration-color: #00af00\">0</span>] │\n",
              "│                     │ <span style=\"color: #00af00; text-decoration-color: #00af00\">32</span>)               │            │                   │\n",
              "├─────────────────────┼───────────────────┼────────────┼───────────────────┤\n",
              "│ max_pooling2d       │ (<span style=\"color: #00d7ff; text-decoration-color: #00d7ff\">None</span>, <span style=\"color: #00af00; text-decoration-color: #00af00\">63</span>, <span style=\"color: #00af00; text-decoration-color: #00af00\">63</span>,    │          <span style=\"color: #00af00; text-decoration-color: #00af00\">0</span> │ conv2d[<span style=\"color: #00af00; text-decoration-color: #00af00\">0</span>][<span style=\"color: #00af00; text-decoration-color: #00af00\">0</span>]      │\n",
              "│ (<span style=\"color: #0087ff; text-decoration-color: #0087ff\">MaxPooling2D</span>)      │ <span style=\"color: #00af00; text-decoration-color: #00af00\">32</span>)               │            │                   │\n",
              "├─────────────────────┼───────────────────┼────────────┼───────────────────┤\n",
              "│ conv2d_1 (<span style=\"color: #0087ff; text-decoration-color: #0087ff\">Conv2D</span>)   │ (<span style=\"color: #00d7ff; text-decoration-color: #00d7ff\">None</span>, <span style=\"color: #00af00; text-decoration-color: #00af00\">61</span>, <span style=\"color: #00af00; text-decoration-color: #00af00\">61</span>,    │     <span style=\"color: #00af00; text-decoration-color: #00af00\">18,496</span> │ max_pooling2d[<span style=\"color: #00af00; text-decoration-color: #00af00\">0</span>]… │\n",
              "│                     │ <span style=\"color: #00af00; text-decoration-color: #00af00\">64</span>)               │            │                   │\n",
              "├─────────────────────┼───────────────────┼────────────┼───────────────────┤\n",
              "│ max_pooling2d_1     │ (<span style=\"color: #00d7ff; text-decoration-color: #00d7ff\">None</span>, <span style=\"color: #00af00; text-decoration-color: #00af00\">30</span>, <span style=\"color: #00af00; text-decoration-color: #00af00\">30</span>,    │          <span style=\"color: #00af00; text-decoration-color: #00af00\">0</span> │ conv2d_1[<span style=\"color: #00af00; text-decoration-color: #00af00\">0</span>][<span style=\"color: #00af00; text-decoration-color: #00af00\">0</span>]    │\n",
              "│ (<span style=\"color: #0087ff; text-decoration-color: #0087ff\">MaxPooling2D</span>)      │ <span style=\"color: #00af00; text-decoration-color: #00af00\">64</span>)               │            │                   │\n",
              "├─────────────────────┼───────────────────┼────────────┼───────────────────┤\n",
              "│ conv2d_2 (<span style=\"color: #0087ff; text-decoration-color: #0087ff\">Conv2D</span>)   │ (<span style=\"color: #00d7ff; text-decoration-color: #00d7ff\">None</span>, <span style=\"color: #00af00; text-decoration-color: #00af00\">28</span>, <span style=\"color: #00af00; text-decoration-color: #00af00\">28</span>,    │     <span style=\"color: #00af00; text-decoration-color: #00af00\">73,856</span> │ max_pooling2d_1[<span style=\"color: #00af00; text-decoration-color: #00af00\">…</span> │\n",
              "│                     │ <span style=\"color: #00af00; text-decoration-color: #00af00\">128</span>)              │            │                   │\n",
              "├─────────────────────┼───────────────────┼────────────┼───────────────────┤\n",
              "│ max_pooling2d_2     │ (<span style=\"color: #00d7ff; text-decoration-color: #00d7ff\">None</span>, <span style=\"color: #00af00; text-decoration-color: #00af00\">14</span>, <span style=\"color: #00af00; text-decoration-color: #00af00\">14</span>,    │          <span style=\"color: #00af00; text-decoration-color: #00af00\">0</span> │ conv2d_2[<span style=\"color: #00af00; text-decoration-color: #00af00\">0</span>][<span style=\"color: #00af00; text-decoration-color: #00af00\">0</span>]    │\n",
              "│ (<span style=\"color: #0087ff; text-decoration-color: #0087ff\">MaxPooling2D</span>)      │ <span style=\"color: #00af00; text-decoration-color: #00af00\">128</span>)              │            │                   │\n",
              "├─────────────────────┼───────────────────┼────────────┼───────────────────┤\n",
              "│ conv2d_3 (<span style=\"color: #0087ff; text-decoration-color: #0087ff\">Conv2D</span>)   │ (<span style=\"color: #00d7ff; text-decoration-color: #00d7ff\">None</span>, <span style=\"color: #00af00; text-decoration-color: #00af00\">12</span>, <span style=\"color: #00af00; text-decoration-color: #00af00\">12</span>,    │    <span style=\"color: #00af00; text-decoration-color: #00af00\">295,168</span> │ max_pooling2d_2[<span style=\"color: #00af00; text-decoration-color: #00af00\">…</span> │\n",
              "│                     │ <span style=\"color: #00af00; text-decoration-color: #00af00\">256</span>)              │            │                   │\n",
              "├─────────────────────┼───────────────────┼────────────┼───────────────────┤\n",
              "│ max_pooling2d_3     │ (<span style=\"color: #00d7ff; text-decoration-color: #00d7ff\">None</span>, <span style=\"color: #00af00; text-decoration-color: #00af00\">6</span>, <span style=\"color: #00af00; text-decoration-color: #00af00\">6</span>, <span style=\"color: #00af00; text-decoration-color: #00af00\">256</span>) │          <span style=\"color: #00af00; text-decoration-color: #00af00\">0</span> │ conv2d_3[<span style=\"color: #00af00; text-decoration-color: #00af00\">0</span>][<span style=\"color: #00af00; text-decoration-color: #00af00\">0</span>]    │\n",
              "│ (<span style=\"color: #0087ff; text-decoration-color: #0087ff\">MaxPooling2D</span>)      │                   │            │                   │\n",
              "├─────────────────────┼───────────────────┼────────────┼───────────────────┤\n",
              "│ flatten (<span style=\"color: #0087ff; text-decoration-color: #0087ff\">Flatten</span>)   │ (<span style=\"color: #00d7ff; text-decoration-color: #00d7ff\">None</span>, <span style=\"color: #00af00; text-decoration-color: #00af00\">9216</span>)      │          <span style=\"color: #00af00; text-decoration-color: #00af00\">0</span> │ max_pooling2d_3[<span style=\"color: #00af00; text-decoration-color: #00af00\">…</span> │\n",
              "├─────────────────────┼───────────────────┼────────────┼───────────────────┤\n",
              "│ dense (<span style=\"color: #0087ff; text-decoration-color: #0087ff\">Dense</span>)       │ (<span style=\"color: #00d7ff; text-decoration-color: #00d7ff\">None</span>, <span style=\"color: #00af00; text-decoration-color: #00af00\">256</span>)       │  <span style=\"color: #00af00; text-decoration-color: #00af00\">2,359,552</span> │ flatten[<span style=\"color: #00af00; text-decoration-color: #00af00\">0</span>][<span style=\"color: #00af00; text-decoration-color: #00af00\">0</span>]     │\n",
              "├─────────────────────┼───────────────────┼────────────┼───────────────────┤\n",
              "│ dense_1 (<span style=\"color: #0087ff; text-decoration-color: #0087ff\">Dense</span>)     │ (<span style=\"color: #00d7ff; text-decoration-color: #00d7ff\">None</span>, <span style=\"color: #00af00; text-decoration-color: #00af00\">256</span>)       │  <span style=\"color: #00af00; text-decoration-color: #00af00\">2,359,552</span> │ flatten[<span style=\"color: #00af00; text-decoration-color: #00af00\">0</span>][<span style=\"color: #00af00; text-decoration-color: #00af00\">0</span>]     │\n",
              "├─────────────────────┼───────────────────┼────────────┼───────────────────┤\n",
              "│ dropout (<span style=\"color: #0087ff; text-decoration-color: #0087ff\">Dropout</span>)   │ (<span style=\"color: #00d7ff; text-decoration-color: #00d7ff\">None</span>, <span style=\"color: #00af00; text-decoration-color: #00af00\">256</span>)       │          <span style=\"color: #00af00; text-decoration-color: #00af00\">0</span> │ dense[<span style=\"color: #00af00; text-decoration-color: #00af00\">0</span>][<span style=\"color: #00af00; text-decoration-color: #00af00\">0</span>]       │\n",
              "├─────────────────────┼───────────────────┼────────────┼───────────────────┤\n",
              "│ dropout_1 (<span style=\"color: #0087ff; text-decoration-color: #0087ff\">Dropout</span>) │ (<span style=\"color: #00d7ff; text-decoration-color: #00d7ff\">None</span>, <span style=\"color: #00af00; text-decoration-color: #00af00\">256</span>)       │          <span style=\"color: #00af00; text-decoration-color: #00af00\">0</span> │ dense_1[<span style=\"color: #00af00; text-decoration-color: #00af00\">0</span>][<span style=\"color: #00af00; text-decoration-color: #00af00\">0</span>]     │\n",
              "├─────────────────────┼───────────────────┼────────────┼───────────────────┤\n",
              "│ gender_out (<span style=\"color: #0087ff; text-decoration-color: #0087ff\">Dense</span>)  │ (<span style=\"color: #00d7ff; text-decoration-color: #00d7ff\">None</span>, <span style=\"color: #00af00; text-decoration-color: #00af00\">1</span>)         │        <span style=\"color: #00af00; text-decoration-color: #00af00\">257</span> │ dropout[<span style=\"color: #00af00; text-decoration-color: #00af00\">0</span>][<span style=\"color: #00af00; text-decoration-color: #00af00\">0</span>]     │\n",
              "├─────────────────────┼───────────────────┼────────────┼───────────────────┤\n",
              "│ age_out (<span style=\"color: #0087ff; text-decoration-color: #0087ff\">Dense</span>)     │ (<span style=\"color: #00d7ff; text-decoration-color: #00d7ff\">None</span>, <span style=\"color: #00af00; text-decoration-color: #00af00\">1</span>)         │        <span style=\"color: #00af00; text-decoration-color: #00af00\">257</span> │ dropout_1[<span style=\"color: #00af00; text-decoration-color: #00af00\">0</span>][<span style=\"color: #00af00; text-decoration-color: #00af00\">0</span>]   │\n",
              "└─────────────────────┴───────────────────┴────────────┴───────────────────┘\n",
              "</pre>\n"
            ]
          },
          "metadata": {}
        },
        {
          "output_type": "display_data",
          "data": {
            "text/plain": [
              "\u001b[1m Total params: \u001b[0m\u001b[38;5;34m5,107,458\u001b[0m (19.48 MB)\n"
            ],
            "text/html": [
              "<pre style=\"white-space:pre;overflow-x:auto;line-height:normal;font-family:Menlo,'DejaVu Sans Mono',consolas,'Courier New',monospace\"><span style=\"font-weight: bold\"> Total params: </span><span style=\"color: #00af00; text-decoration-color: #00af00\">5,107,458</span> (19.48 MB)\n",
              "</pre>\n"
            ]
          },
          "metadata": {}
        },
        {
          "output_type": "display_data",
          "data": {
            "text/plain": [
              "\u001b[1m Trainable params: \u001b[0m\u001b[38;5;34m5,107,458\u001b[0m (19.48 MB)\n"
            ],
            "text/html": [
              "<pre style=\"white-space:pre;overflow-x:auto;line-height:normal;font-family:Menlo,'DejaVu Sans Mono',consolas,'Courier New',monospace\"><span style=\"font-weight: bold\"> Trainable params: </span><span style=\"color: #00af00; text-decoration-color: #00af00\">5,107,458</span> (19.48 MB)\n",
              "</pre>\n"
            ]
          },
          "metadata": {}
        },
        {
          "output_type": "display_data",
          "data": {
            "text/plain": [
              "\u001b[1m Non-trainable params: \u001b[0m\u001b[38;5;34m0\u001b[0m (0.00 B)\n"
            ],
            "text/html": [
              "<pre style=\"white-space:pre;overflow-x:auto;line-height:normal;font-family:Menlo,'DejaVu Sans Mono',consolas,'Courier New',monospace\"><span style=\"font-weight: bold\"> Non-trainable params: </span><span style=\"color: #00af00; text-decoration-color: #00af00\">0</span> (0.00 B)\n",
              "</pre>\n"
            ]
          },
          "metadata": {}
        }
      ],
      "execution_count": null
    },
    {
      "cell_type": "code",
      "source": [
        "y_combined = np.column_stack((y_gender,y_age))\n",
        "X_train,X_temp,y_combined_train,y_combined_temp = train_test_split(\n",
        "    X,y_combined,test_size=0.2,random_state=42\n",
        ")\n",
        "\n",
        "X_test,X_val,y_combined_test,y_combined_val = train_test_split(\n",
        "    X_temp,y_combined_temp,test_size=0.5,random_state=42\n",
        ")"
      ],
      "metadata": {
        "trusted": true,
        "execution": {
          "iopub.status.busy": "2025-04-26T09:28:12.662895Z",
          "iopub.execute_input": "2025-04-26T09:28:12.663319Z",
          "iopub.status.idle": "2025-04-26T09:28:16.528496Z",
          "shell.execute_reply.started": "2025-04-26T09:28:12.663295Z",
          "shell.execute_reply": "2025-04-26T09:28:16.527589Z"
        },
        "id": "VTWJ5sndBwtW"
      },
      "outputs": [],
      "execution_count": null
    },
    {
      "cell_type": "code",
      "source": [
        "y_train_gender, y_train_age = y_combined_train[:,0],y_combined_train[:,1]\n",
        "y_test_gender,y_test_age = y_combined_test[:,0],y_combined_test[:,1]\n",
        "y_val_gender,y_val_age = y_combined_val[:,0],y_combined_val[:,1]"
      ],
      "metadata": {
        "trusted": true,
        "execution": {
          "iopub.status.busy": "2025-04-26T09:28:16.52965Z",
          "iopub.execute_input": "2025-04-26T09:28:16.529989Z",
          "iopub.status.idle": "2025-04-26T09:28:16.535139Z",
          "shell.execute_reply.started": "2025-04-26T09:28:16.52996Z",
          "shell.execute_reply": "2025-04-26T09:28:16.534231Z"
        },
        "id": "xb0rD4R7BwtW"
      },
      "outputs": [],
      "execution_count": null
    },
    {
      "cell_type": "code",
      "source": [
        "from google.colab import drive\n",
        "drive.mount('/content/drive')"
      ],
      "metadata": {
        "colab": {
          "base_uri": "https://localhost:8080/"
        },
        "id": "aDGU0focUTcH",
        "outputId": "08653917-9a5a-46ea-b9f9-ce014e3f6dad"
      },
      "execution_count": null,
      "outputs": [
        {
          "output_type": "stream",
          "name": "stdout",
          "text": [
            "Mounted at /content/drive\n"
          ]
        }
      ]
    },
    {
      "cell_type": "code",
      "source": [
        "from keras.callbacks import ModelCheckpoint, ReduceLROnPlateau\n",
        "\n",
        "model_path = '/content/drive/MyDrive/best_model.keras'\n",
        "\n",
        "checkpointer = ModelCheckpoint(\n",
        "    filepath=model_path,\n",
        "    monitor='val_gender_out_accuracy',\n",
        "    verbose=1,\n",
        "    mode='max',\n",
        "    save_best_only=True\n",
        ")\n",
        "\n",
        "lr_scheduler = ReduceLROnPlateau(\n",
        "    monitor='val_loss',\n",
        "    factor=0.5,\n",
        "    patience=3,\n",
        "    verbose=1,\n",
        "    mode='min',\n",
        "    min_lr=1e-6\n",
        ")\n",
        "\n",
        "callbacks = [checkpointer, lr_scheduler]"
      ],
      "metadata": {
        "trusted": true,
        "execution": {
          "iopub.status.busy": "2025-04-26T09:29:01.982179Z",
          "iopub.execute_input": "2025-04-26T09:29:01.982555Z",
          "iopub.status.idle": "2025-04-26T09:29:01.98798Z",
          "shell.execute_reply.started": "2025-04-26T09:29:01.982528Z",
          "shell.execute_reply": "2025-04-26T09:29:01.986902Z"
        },
        "id": "V9KgfbMeBwtX"
      },
      "outputs": [],
      "execution_count": null
    },
    {
      "cell_type": "code",
      "source": [
        "model.compile(\n",
        "    optimizer='adam',\n",
        "    loss={\n",
        "        'gender_out': 'binary_crossentropy',\n",
        "        'age_out': 'mse'\n",
        "    },\n",
        "    metrics={\n",
        "        'gender_out': 'accuracy',\n",
        "        'age_out': 'mae'\n",
        "    }\n",
        ")"
      ],
      "metadata": {
        "trusted": true,
        "execution": {
          "iopub.status.busy": "2025-04-26T09:29:33.301587Z",
          "iopub.execute_input": "2025-04-26T09:29:33.301971Z",
          "iopub.status.idle": "2025-04-26T09:29:33.313168Z",
          "shell.execute_reply.started": "2025-04-26T09:29:33.301946Z",
          "shell.execute_reply": "2025-04-26T09:29:33.312348Z"
        },
        "id": "aUvZvCRTBwtX"
      },
      "outputs": [],
      "execution_count": null
    },
    {
      "cell_type": "code",
      "source": [
        "total_images = len(image_paths)\n",
        "print(f\"Total number of images:{total_images}\")"
      ],
      "metadata": {
        "trusted": true,
        "execution": {
          "iopub.status.busy": "2025-04-26T09:30:01.419783Z",
          "iopub.execute_input": "2025-04-26T09:30:01.420185Z",
          "iopub.status.idle": "2025-04-26T09:30:01.425501Z",
          "shell.execute_reply.started": "2025-04-26T09:30:01.420155Z",
          "shell.execute_reply": "2025-04-26T09:30:01.424402Z"
        },
        "id": "YncEmTvKBwtY",
        "outputId": "907e3953-4400-458f-ec38-470f24a9a5d7",
        "colab": {
          "base_uri": "https://localhost:8080/"
        }
      },
      "outputs": [
        {
          "output_type": "stream",
          "name": "stdout",
          "text": [
            "Total number of images:23708\n"
          ]
        }
      ],
      "execution_count": null
    },
    {
      "cell_type": "code",
      "source": [
        "train_images = len(X_train)\n",
        "validation_images = len(X_val)\n",
        "test_images = len(X_test)\n",
        "\n",
        "print(f\"Number of the training images:{train_images}\")\n",
        "print(f\"Number of the validation images:{validation_images}\")\n",
        "print(f\"Number of the test images:{test_images}\")"
      ],
      "metadata": {
        "trusted": true,
        "execution": {
          "iopub.status.busy": "2025-04-26T09:30:32.939139Z",
          "iopub.execute_input": "2025-04-26T09:30:32.939987Z",
          "iopub.status.idle": "2025-04-26T09:30:32.945633Z",
          "shell.execute_reply.started": "2025-04-26T09:30:32.939955Z",
          "shell.execute_reply": "2025-04-26T09:30:32.944552Z"
        },
        "id": "QNTRzacTBwtY",
        "outputId": "dc8bcd3b-772c-4202-987b-7f0f71525928",
        "colab": {
          "base_uri": "https://localhost:8080/"
        }
      },
      "outputs": [
        {
          "output_type": "stream",
          "name": "stdout",
          "text": [
            "Number of the training images:18966\n",
            "Number of the validation images:2371\n",
            "Number of the test images:2371\n"
          ]
        }
      ],
      "execution_count": null
    },
    {
      "cell_type": "code",
      "source": [
        "print(X_train.shape)\n",
        "print(X_val.shape)"
      ],
      "metadata": {
        "trusted": true,
        "execution": {
          "iopub.status.busy": "2025-04-26T09:30:41.377003Z",
          "iopub.execute_input": "2025-04-26T09:30:41.377942Z",
          "iopub.status.idle": "2025-04-26T09:30:41.383272Z",
          "shell.execute_reply.started": "2025-04-26T09:30:41.377908Z",
          "shell.execute_reply": "2025-04-26T09:30:41.382147Z"
        },
        "id": "kywDKSW7BwtZ",
        "outputId": "91521d3d-9a98-4915-f058-c98b466c5c9a",
        "colab": {
          "base_uri": "https://localhost:8080/"
        }
      },
      "outputs": [
        {
          "output_type": "stream",
          "name": "stdout",
          "text": [
            "(18966, 128, 128, 1)\n",
            "(2371, 128, 128, 1)\n"
          ]
        }
      ],
      "execution_count": null
    },
    {
      "cell_type": "code",
      "source": [
        "import tensorflow as tf\n",
        "tf.config.run_functions_eagerly(True)"
      ],
      "metadata": {
        "trusted": true,
        "execution": {
          "iopub.status.busy": "2025-04-26T09:30:53.814222Z",
          "iopub.execute_input": "2025-04-26T09:30:53.81453Z",
          "iopub.status.idle": "2025-04-26T09:30:53.819234Z",
          "shell.execute_reply.started": "2025-04-26T09:30:53.814512Z",
          "shell.execute_reply": "2025-04-26T09:30:53.817961Z"
        },
        "id": "2qXGZYHHBwtZ"
      },
      "outputs": [],
      "execution_count": null
    },
    {
      "cell_type": "code",
      "source": [
        "history = model.fit(\n",
        "    x=X_train,\n",
        "    y=[y_train_gender, y_train_age],\n",
        "    batch_size=128,\n",
        "    epochs=100,\n",
        "    validation_data=(X_val, [y_val_gender, y_val_age]),\n",
        "    callbacks=[checkpointer, lr_scheduler]\n",
        ")"
      ],
      "metadata": {
        "trusted": true,
        "execution": {
          "iopub.status.busy": "2025-04-26T09:33:28.986512Z",
          "iopub.execute_input": "2025-04-26T09:33:28.986926Z"
        },
        "id": "GcdZ6fGHBwtZ",
        "outputId": "a40e9197-4196-4558-8666-4d238fec716d",
        "colab": {
          "base_uri": "https://localhost:8080/"
        }
      },
      "outputs": [
        {
          "output_type": "stream",
          "name": "stdout",
          "text": [
            "Epoch 1/100\n",
            "\u001b[1m149/149\u001b[0m \u001b[32m━━━━━━━━━━━━━━━━━━━━\u001b[0m\u001b[37m\u001b[0m \u001b[1m0s\u001b[0m 197ms/step - age_out_loss: 560.4072 - age_out_mae: 18.1843 - gender_out_accuracy: 0.5231 - gender_out_loss: 0.7304 - loss: 561.1375\n",
            "Epoch 1: val_gender_out_accuracy improved from -inf to 0.64530, saving model to /content/drive/MyDrive/second_model.keras\n",
            "\u001b[1m149/149\u001b[0m \u001b[32m━━━━━━━━━━━━━━━━━━━━\u001b[0m\u001b[37m\u001b[0m \u001b[1m38s\u001b[0m 212ms/step - age_out_loss: 559.6315 - age_out_mae: 18.1711 - gender_out_accuracy: 0.5231 - gender_out_loss: 0.7302 - loss: 560.3617 - val_age_out_loss: 374.4235 - val_age_out_mae: 14.3685 - val_gender_out_accuracy: 0.6453 - val_gender_out_loss: 0.6866 - val_loss: 375.1101 - learning_rate: 0.0010\n",
            "Epoch 2/100\n",
            "\u001b[1m149/149\u001b[0m \u001b[32m━━━━━━━━━━━━━━━━━━━━\u001b[0m\u001b[37m\u001b[0m \u001b[1m0s\u001b[0m 173ms/step - age_out_loss: 381.2351 - age_out_mae: 15.0200 - gender_out_accuracy: 0.5860 - gender_out_loss: 0.6712 - loss: 381.9064\n",
            "Epoch 2: val_gender_out_accuracy improved from 0.64530 to 0.71615, saving model to /content/drive/MyDrive/second_model.keras\n",
            "\u001b[1m149/149\u001b[0m \u001b[32m━━━━━━━━━━━━━━━━━━━━\u001b[0m\u001b[37m\u001b[0m \u001b[1m31s\u001b[0m 184ms/step - age_out_loss: 381.0299 - age_out_mae: 15.0160 - gender_out_accuracy: 0.5863 - gender_out_loss: 0.6710 - loss: 381.7010 - val_age_out_loss: 245.9672 - val_age_out_mae: 12.1729 - val_gender_out_accuracy: 0.7162 - val_gender_out_loss: 0.5483 - val_loss: 246.5155 - learning_rate: 0.0010\n",
            "Epoch 3/100\n",
            "\u001b[1m149/149\u001b[0m \u001b[32m━━━━━━━━━━━━━━━━━━━━\u001b[0m\u001b[37m\u001b[0m \u001b[1m0s\u001b[0m 179ms/step - age_out_loss: 272.9653 - age_out_mae: 12.7298 - gender_out_accuracy: 0.7338 - gender_out_loss: 0.5376 - loss: 273.5029\n",
            "Epoch 3: val_gender_out_accuracy improved from 0.71615 to 0.75960, saving model to /content/drive/MyDrive/second_model.keras\n",
            "\u001b[1m149/149\u001b[0m \u001b[32m━━━━━━━━━━━━━━━━━━━━\u001b[0m\u001b[37m\u001b[0m \u001b[1m28s\u001b[0m 191ms/step - age_out_loss: 272.8055 - age_out_mae: 12.7256 - gender_out_accuracy: 0.7338 - gender_out_loss: 0.5375 - loss: 273.3430 - val_age_out_loss: 191.7780 - val_age_out_mae: 10.2494 - val_gender_out_accuracy: 0.7596 - val_gender_out_loss: 0.4830 - val_loss: 192.2609 - learning_rate: 0.0010\n",
            "Epoch 4/100\n",
            "\u001b[1m149/149\u001b[0m \u001b[32m━━━━━━━━━━━━━━━━━━━━\u001b[0m\u001b[37m\u001b[0m \u001b[1m0s\u001b[0m 173ms/step - age_out_loss: 208.5198 - age_out_mae: 10.9224 - gender_out_accuracy: 0.7662 - gender_out_loss: 0.4944 - loss: 209.0141\n",
            "Epoch 4: val_gender_out_accuracy improved from 0.75960 to 0.79502, saving model to /content/drive/MyDrive/second_model.keras\n",
            "\u001b[1m149/149\u001b[0m \u001b[32m━━━━━━━━━━━━━━━━━━━━\u001b[0m\u001b[37m\u001b[0m \u001b[1m28s\u001b[0m 185ms/step - age_out_loss: 208.4775 - age_out_mae: 10.9211 - gender_out_accuracy: 0.7662 - gender_out_loss: 0.4943 - loss: 208.9718 - val_age_out_loss: 218.8638 - val_age_out_mae: 10.5881 - val_gender_out_accuracy: 0.7950 - val_gender_out_loss: 0.4419 - val_loss: 219.3057 - learning_rate: 0.0010\n",
            "Epoch 5/100\n",
            "\u001b[1m149/149\u001b[0m \u001b[32m━━━━━━━━━━━━━━━━━━━━\u001b[0m\u001b[37m\u001b[0m \u001b[1m0s\u001b[0m 174ms/step - age_out_loss: 186.3258 - age_out_mae: 10.2136 - gender_out_accuracy: 0.7833 - gender_out_loss: 0.4592 - loss: 186.7850\n",
            "Epoch 5: val_gender_out_accuracy improved from 0.79502 to 0.80894, saving model to /content/drive/MyDrive/second_model.keras\n",
            "\u001b[1m149/149\u001b[0m \u001b[32m━━━━━━━━━━━━━━━━━━━━\u001b[0m\u001b[37m\u001b[0m \u001b[1m28s\u001b[0m 186ms/step - age_out_loss: 186.2488 - age_out_mae: 10.2114 - gender_out_accuracy: 0.7833 - gender_out_loss: 0.4591 - loss: 186.7079 - val_age_out_loss: 151.2340 - val_age_out_mae: 8.9277 - val_gender_out_accuracy: 0.8089 - val_gender_out_loss: 0.4002 - val_loss: 151.6342 - learning_rate: 0.0010\n",
            "Epoch 6/100\n",
            "\u001b[1m149/149\u001b[0m \u001b[32m━━━━━━━━━━━━━━━━━━━━\u001b[0m\u001b[37m\u001b[0m \u001b[1m0s\u001b[0m 166ms/step - age_out_loss: 161.1114 - age_out_mae: 9.4576 - gender_out_accuracy: 0.8051 - gender_out_loss: 0.4242 - loss: 161.5355\n",
            "Epoch 6: val_gender_out_accuracy improved from 0.80894 to 0.81189, saving model to /content/drive/MyDrive/second_model.keras\n",
            "\u001b[1m149/149\u001b[0m \u001b[32m━━━━━━━━━━━━━━━━━━━━\u001b[0m\u001b[37m\u001b[0m \u001b[1m40s\u001b[0m 178ms/step - age_out_loss: 161.0905 - age_out_mae: 9.4568 - gender_out_accuracy: 0.8051 - gender_out_loss: 0.4242 - loss: 161.5146 - val_age_out_loss: 149.0050 - val_age_out_mae: 9.2840 - val_gender_out_accuracy: 0.8119 - val_gender_out_loss: 0.4042 - val_loss: 149.4092 - learning_rate: 0.0010\n",
            "Epoch 7/100\n",
            "\u001b[1m149/149\u001b[0m \u001b[32m━━━━━━━━━━━━━━━━━━━━\u001b[0m\u001b[37m\u001b[0m \u001b[1m0s\u001b[0m 178ms/step - age_out_loss: 146.9678 - age_out_mae: 8.9969 - gender_out_accuracy: 0.8091 - gender_out_loss: 0.4079 - loss: 147.3757\n",
            "Epoch 7: val_gender_out_accuracy did not improve from 0.81189\n",
            "\u001b[1m149/149\u001b[0m \u001b[32m━━━━━━━━━━━━━━━━━━━━\u001b[0m\u001b[37m\u001b[0m \u001b[1m28s\u001b[0m 187ms/step - age_out_loss: 146.9069 - age_out_mae: 8.9951 - gender_out_accuracy: 0.8091 - gender_out_loss: 0.4078 - loss: 147.3148 - val_age_out_loss: 135.2277 - val_age_out_mae: 8.3643 - val_gender_out_accuracy: 0.8056 - val_gender_out_loss: 0.4072 - val_loss: 135.6349 - learning_rate: 0.0010\n",
            "Epoch 8/100\n",
            "\u001b[1m149/149\u001b[0m \u001b[32m━━━━━━━━━━━━━━━━━━━━\u001b[0m\u001b[37m\u001b[0m \u001b[1m0s\u001b[0m 170ms/step - age_out_loss: 130.5833 - age_out_mae: 8.4460 - gender_out_accuracy: 0.8193 - gender_out_loss: 0.3838 - loss: 130.9671\n",
            "Epoch 8: val_gender_out_accuracy improved from 0.81189 to 0.83214, saving model to /content/drive/MyDrive/second_model.keras\n",
            "\u001b[1m149/149\u001b[0m \u001b[32m━━━━━━━━━━━━━━━━━━━━\u001b[0m\u001b[37m\u001b[0m \u001b[1m40s\u001b[0m 181ms/step - age_out_loss: 130.5473 - age_out_mae: 8.4451 - gender_out_accuracy: 0.8193 - gender_out_loss: 0.3838 - loss: 130.9312 - val_age_out_loss: 115.3816 - val_age_out_mae: 7.9523 - val_gender_out_accuracy: 0.8321 - val_gender_out_loss: 0.3589 - val_loss: 115.7406 - learning_rate: 0.0010\n",
            "Epoch 9/100\n",
            "\u001b[1m149/149\u001b[0m \u001b[32m━━━━━━━━━━━━━━━━━━━━\u001b[0m\u001b[37m\u001b[0m \u001b[1m0s\u001b[0m 177ms/step - age_out_loss: 121.6216 - age_out_mae: 8.2156 - gender_out_accuracy: 0.8210 - gender_out_loss: 0.3847 - loss: 122.0063\n",
            "Epoch 9: val_gender_out_accuracy improved from 0.83214 to 0.84606, saving model to /content/drive/MyDrive/second_model.keras\n",
            "\u001b[1m149/149\u001b[0m \u001b[32m━━━━━━━━━━━━━━━━━━━━\u001b[0m\u001b[37m\u001b[0m \u001b[1m28s\u001b[0m 186ms/step - age_out_loss: 121.5905 - age_out_mae: 8.2143 - gender_out_accuracy: 0.8210 - gender_out_loss: 0.3846 - loss: 121.9751 - val_age_out_loss: 118.7841 - val_age_out_mae: 7.7748 - val_gender_out_accuracy: 0.8461 - val_gender_out_loss: 0.3351 - val_loss: 119.1191 - learning_rate: 0.0010\n",
            "Epoch 10/100\n",
            "\u001b[1m149/149\u001b[0m \u001b[32m━━━━━━━━━━━━━━━━━━━━\u001b[0m\u001b[37m\u001b[0m \u001b[1m0s\u001b[0m 169ms/step - age_out_loss: 113.4704 - age_out_mae: 7.9282 - gender_out_accuracy: 0.8330 - gender_out_loss: 0.3601 - loss: 113.8306\n",
            "Epoch 10: val_gender_out_accuracy improved from 0.84606 to 0.85744, saving model to /content/drive/MyDrive/second_model.keras\n",
            "\u001b[1m149/149\u001b[0m \u001b[32m━━━━━━━━━━━━━━━━━━━━\u001b[0m\u001b[37m\u001b[0m \u001b[1m40s\u001b[0m 180ms/step - age_out_loss: 113.4609 - age_out_mae: 7.9277 - gender_out_accuracy: 0.8331 - gender_out_loss: 0.3601 - loss: 113.8210 - val_age_out_loss: 105.2560 - val_age_out_mae: 7.3543 - val_gender_out_accuracy: 0.8574 - val_gender_out_loss: 0.3240 - val_loss: 105.5800 - learning_rate: 0.0010\n",
            "Epoch 11/100\n",
            "\u001b[1m149/149\u001b[0m \u001b[32m━━━━━━━━━━━━━━━━━━━━\u001b[0m\u001b[37m\u001b[0m \u001b[1m0s\u001b[0m 173ms/step - age_out_loss: 101.8606 - age_out_mae: 7.4717 - gender_out_accuracy: 0.8444 - gender_out_loss: 0.3469 - loss: 102.2076\n",
            "Epoch 11: val_gender_out_accuracy did not improve from 0.85744\n",
            "\u001b[1m149/149\u001b[0m \u001b[32m━━━━━━━━━━━━━━━━━━━━\u001b[0m\u001b[37m\u001b[0m \u001b[1m27s\u001b[0m 182ms/step - age_out_loss: 101.8636 - age_out_mae: 7.4718 - gender_out_accuracy: 0.8444 - gender_out_loss: 0.3469 - loss: 102.2105 - val_age_out_loss: 95.1293 - val_age_out_mae: 7.1892 - val_gender_out_accuracy: 0.8536 - val_gender_out_loss: 0.3146 - val_loss: 95.4439 - learning_rate: 0.0010\n",
            "Epoch 12/100\n",
            "\u001b[1m149/149\u001b[0m \u001b[32m━━━━━━━━━━━━━━━━━━━━\u001b[0m\u001b[37m\u001b[0m \u001b[1m0s\u001b[0m 168ms/step - age_out_loss: 95.2228 - age_out_mae: 7.2092 - gender_out_accuracy: 0.8563 - gender_out_loss: 0.3192 - loss: 95.5421\n",
            "Epoch 12: val_gender_out_accuracy improved from 0.85744 to 0.86419, saving model to /content/drive/MyDrive/second_model.keras\n",
            "\u001b[1m149/149\u001b[0m \u001b[32m━━━━━━━━━━━━━━━━━━━━\u001b[0m\u001b[37m\u001b[0m \u001b[1m40s\u001b[0m 178ms/step - age_out_loss: 95.2338 - age_out_mae: 7.2097 - gender_out_accuracy: 0.8563 - gender_out_loss: 0.3193 - loss: 95.5531 - val_age_out_loss: 95.1606 - val_age_out_mae: 7.2968 - val_gender_out_accuracy: 0.8642 - val_gender_out_loss: 0.3083 - val_loss: 95.4689 - learning_rate: 0.0010\n",
            "Epoch 13/100\n",
            "\u001b[1m149/149\u001b[0m \u001b[32m━━━━━━━━━━━━━━━━━━━━\u001b[0m\u001b[37m\u001b[0m \u001b[1m0s\u001b[0m 172ms/step - age_out_loss: 93.2555 - age_out_mae: 7.1878 - gender_out_accuracy: 0.8561 - gender_out_loss: 0.3191 - loss: 93.5746\n",
            "Epoch 13: val_gender_out_accuracy improved from 0.86419 to 0.86757, saving model to /content/drive/MyDrive/second_model.keras\n",
            "\u001b[1m149/149\u001b[0m \u001b[32m━━━━━━━━━━━━━━━━━━━━\u001b[0m\u001b[37m\u001b[0m \u001b[1m27s\u001b[0m 182ms/step - age_out_loss: 93.2474 - age_out_mae: 7.1873 - gender_out_accuracy: 0.8561 - gender_out_loss: 0.3191 - loss: 93.5665 - val_age_out_loss: 90.3842 - val_age_out_mae: 6.9188 - val_gender_out_accuracy: 0.8676 - val_gender_out_loss: 0.2929 - val_loss: 90.6771 - learning_rate: 0.0010\n",
            "Epoch 14/100\n",
            "\u001b[1m149/149\u001b[0m \u001b[32m━━━━━━━━━━━━━━━━━━━━\u001b[0m\u001b[37m\u001b[0m \u001b[1m0s\u001b[0m 172ms/step - age_out_loss: 86.0867 - age_out_mae: 6.8830 - gender_out_accuracy: 0.8589 - gender_out_loss: 0.3088 - loss: 86.3955\n",
            "Epoch 14: val_gender_out_accuracy improved from 0.86757 to 0.86925, saving model to /content/drive/MyDrive/second_model.keras\n",
            "\u001b[1m149/149\u001b[0m \u001b[32m━━━━━━━━━━━━━━━━━━━━\u001b[0m\u001b[37m\u001b[0m \u001b[1m27s\u001b[0m 181ms/step - age_out_loss: 86.0938 - age_out_mae: 6.8833 - gender_out_accuracy: 0.8589 - gender_out_loss: 0.3087 - loss: 86.4025 - val_age_out_loss: 88.6445 - val_age_out_mae: 7.0366 - val_gender_out_accuracy: 0.8693 - val_gender_out_loss: 0.2935 - val_loss: 88.9380 - learning_rate: 0.0010\n",
            "Epoch 15/100\n",
            "\u001b[1m149/149\u001b[0m \u001b[32m━━━━━━━━━━━━━━━━━━━━\u001b[0m\u001b[37m\u001b[0m \u001b[1m0s\u001b[0m 168ms/step - age_out_loss: 83.9000 - age_out_mae: 6.8000 - gender_out_accuracy: 0.8676 - gender_out_loss: 0.2971 - loss: 84.1971\n",
            "Epoch 15: val_gender_out_accuracy did not improve from 0.86925\n",
            "\u001b[1m149/149\u001b[0m \u001b[32m━━━━━━━━━━━━━━━━━━━━\u001b[0m\u001b[37m\u001b[0m \u001b[1m40s\u001b[0m 175ms/step - age_out_loss: 83.8986 - age_out_mae: 6.8002 - gender_out_accuracy: 0.8676 - gender_out_loss: 0.2971 - loss: 84.1957 - val_age_out_loss: 85.0217 - val_age_out_mae: 6.7340 - val_gender_out_accuracy: 0.8671 - val_gender_out_loss: 0.2830 - val_loss: 85.3047 - learning_rate: 0.0010\n",
            "Epoch 16/100\n",
            "\u001b[1m149/149\u001b[0m \u001b[32m━━━━━━━━━━━━━━━━━━━━\u001b[0m\u001b[37m\u001b[0m \u001b[1m0s\u001b[0m 165ms/step - age_out_loss: 78.4133 - age_out_mae: 6.6144 - gender_out_accuracy: 0.8723 - gender_out_loss: 0.2845 - loss: 78.6977\n",
            "Epoch 16: val_gender_out_accuracy improved from 0.86925 to 0.87010, saving model to /content/drive/MyDrive/second_model.keras\n",
            "\u001b[1m149/149\u001b[0m \u001b[32m━━━━━━━━━━━━━━━━━━━━\u001b[0m\u001b[37m\u001b[0m \u001b[1m41s\u001b[0m 177ms/step - age_out_loss: 78.4118 - age_out_mae: 6.6141 - gender_out_accuracy: 0.8723 - gender_out_loss: 0.2845 - loss: 78.6963 - val_age_out_loss: 88.3551 - val_age_out_mae: 6.8330 - val_gender_out_accuracy: 0.8701 - val_gender_out_loss: 0.2789 - val_loss: 88.6341 - learning_rate: 0.0010\n",
            "Epoch 17/100\n",
            "\u001b[1m149/149\u001b[0m \u001b[32m━━━━━━━━━━━━━━━━━━━━\u001b[0m\u001b[37m\u001b[0m \u001b[1m0s\u001b[0m 167ms/step - age_out_loss: 73.8687 - age_out_mae: 6.4315 - gender_out_accuracy: 0.8729 - gender_out_loss: 0.2801 - loss: 74.1488\n",
            "Epoch 17: val_gender_out_accuracy did not improve from 0.87010\n",
            "\u001b[1m149/149\u001b[0m \u001b[32m━━━━━━━━━━━━━━━━━━━━\u001b[0m\u001b[37m\u001b[0m \u001b[1m41s\u001b[0m 174ms/step - age_out_loss: 73.8741 - age_out_mae: 6.4315 - gender_out_accuracy: 0.8729 - gender_out_loss: 0.2801 - loss: 74.1542 - val_age_out_loss: 102.9723 - val_age_out_mae: 7.6434 - val_gender_out_accuracy: 0.8671 - val_gender_out_loss: 0.2834 - val_loss: 103.2557 - learning_rate: 0.0010\n",
            "Epoch 18/100\n",
            "\u001b[1m149/149\u001b[0m \u001b[32m━━━━━━━━━━━━━━━━━━━━\u001b[0m\u001b[37m\u001b[0m \u001b[1m0s\u001b[0m 173ms/step - age_out_loss: 71.8323 - age_out_mae: 6.3138 - gender_out_accuracy: 0.8801 - gender_out_loss: 0.2719 - loss: 72.1041\n",
            "Epoch 18: val_gender_out_accuracy improved from 0.87010 to 0.87685, saving model to /content/drive/MyDrive/second_model.keras\n",
            "\n",
            "Epoch 18: ReduceLROnPlateau reducing learning rate to 0.0005000000237487257.\n",
            "\u001b[1m149/149\u001b[0m \u001b[32m━━━━━━━━━━━━━━━━━━━━\u001b[0m\u001b[37m\u001b[0m \u001b[1m42s\u001b[0m 184ms/step - age_out_loss: 71.8437 - age_out_mae: 6.3144 - gender_out_accuracy: 0.8801 - gender_out_loss: 0.2719 - loss: 72.1156 - val_age_out_loss: 94.4506 - val_age_out_mae: 7.0008 - val_gender_out_accuracy: 0.8768 - val_gender_out_loss: 0.2690 - val_loss: 94.7196 - learning_rate: 0.0010\n",
            "Epoch 19/100\n",
            "\u001b[1m149/149\u001b[0m \u001b[32m━━━━━━━━━━━━━━━━━━━━\u001b[0m\u001b[37m\u001b[0m \u001b[1m0s\u001b[0m 180ms/step - age_out_loss: 64.7800 - age_out_mae: 6.0414 - gender_out_accuracy: 0.8875 - gender_out_loss: 0.2628 - loss: 65.0428\n",
            "Epoch 19: val_gender_out_accuracy improved from 0.87685 to 0.88612, saving model to /content/drive/MyDrive/second_model.keras\n",
            "\u001b[1m149/149\u001b[0m \u001b[32m━━━━━━━━━━━━━━━━━━━━\u001b[0m\u001b[37m\u001b[0m \u001b[1m29s\u001b[0m 192ms/step - age_out_loss: 64.7775 - age_out_mae: 6.0412 - gender_out_accuracy: 0.8875 - gender_out_loss: 0.2628 - loss: 65.0402 - val_age_out_loss: 79.6674 - val_age_out_mae: 6.4540 - val_gender_out_accuracy: 0.8861 - val_gender_out_loss: 0.2607 - val_loss: 79.9281 - learning_rate: 5.0000e-04\n",
            "Epoch 20/100\n",
            "\u001b[1m149/149\u001b[0m \u001b[32m━━━━━━━━━━━━━━━━━━━━\u001b[0m\u001b[37m\u001b[0m \u001b[1m0s\u001b[0m 174ms/step - age_out_loss: 63.6834 - age_out_mae: 5.9609 - gender_out_accuracy: 0.8929 - gender_out_loss: 0.2545 - loss: 63.9380\n",
            "Epoch 20: val_gender_out_accuracy did not improve from 0.88612\n",
            "\u001b[1m149/149\u001b[0m \u001b[32m━━━━━━━━━━━━━━━━━━━━\u001b[0m\u001b[37m\u001b[0m \u001b[1m27s\u001b[0m 183ms/step - age_out_loss: 63.6903 - age_out_mae: 5.9612 - gender_out_accuracy: 0.8929 - gender_out_loss: 0.2545 - loss: 63.9448 - val_age_out_loss: 80.5805 - val_age_out_mae: 6.6602 - val_gender_out_accuracy: 0.8798 - val_gender_out_loss: 0.2638 - val_loss: 80.8443 - learning_rate: 5.0000e-04\n",
            "Epoch 21/100\n",
            "\u001b[1m149/149\u001b[0m \u001b[32m━━━━━━━━━━━━━━━━━━━━\u001b[0m\u001b[37m\u001b[0m \u001b[1m0s\u001b[0m 170ms/step - age_out_loss: 60.5328 - age_out_mae: 5.8476 - gender_out_accuracy: 0.8857 - gender_out_loss: 0.2602 - loss: 60.7930\n",
            "Epoch 21: val_gender_out_accuracy did not improve from 0.88612\n",
            "\u001b[1m149/149\u001b[0m \u001b[32m━━━━━━━━━━━━━━━━━━━━\u001b[0m\u001b[37m\u001b[0m \u001b[1m26s\u001b[0m 177ms/step - age_out_loss: 60.5264 - age_out_mae: 5.8471 - gender_out_accuracy: 0.8858 - gender_out_loss: 0.2601 - loss: 60.7865 - val_age_out_loss: 79.0063 - val_age_out_mae: 6.4394 - val_gender_out_accuracy: 0.8752 - val_gender_out_loss: 0.2766 - val_loss: 79.2830 - learning_rate: 5.0000e-04\n",
            "Epoch 22/100\n",
            "\u001b[1m149/149\u001b[0m \u001b[32m━━━━━━━━━━━━━━━━━━━━\u001b[0m\u001b[37m\u001b[0m \u001b[1m0s\u001b[0m 171ms/step - age_out_loss: 55.8738 - age_out_mae: 5.6405 - gender_out_accuracy: 0.8887 - gender_out_loss: 0.2502 - loss: 56.1240\n",
            "Epoch 22: val_gender_out_accuracy did not improve from 0.88612\n",
            "\u001b[1m149/149\u001b[0m \u001b[32m━━━━━━━━━━━━━━━━━━━━\u001b[0m\u001b[37m\u001b[0m \u001b[1m27s\u001b[0m 178ms/step - age_out_loss: 55.8758 - age_out_mae: 5.6405 - gender_out_accuracy: 0.8888 - gender_out_loss: 0.2502 - loss: 56.1260 - val_age_out_loss: 80.3368 - val_age_out_mae: 6.4884 - val_gender_out_accuracy: 0.8853 - val_gender_out_loss: 0.2636 - val_loss: 80.6004 - learning_rate: 5.0000e-04\n",
            "Epoch 23/100\n",
            "\u001b[1m149/149\u001b[0m \u001b[32m━━━━━━━━━━━━━━━━━━━━\u001b[0m\u001b[37m\u001b[0m \u001b[1m0s\u001b[0m 170ms/step - age_out_loss: 54.8794 - age_out_mae: 5.5756 - gender_out_accuracy: 0.8950 - gender_out_loss: 0.2485 - loss: 55.1279\n",
            "Epoch 23: val_gender_out_accuracy did not improve from 0.88612\n",
            "\u001b[1m149/149\u001b[0m \u001b[32m━━━━━━━━━━━━━━━━━━━━\u001b[0m\u001b[37m\u001b[0m \u001b[1m26s\u001b[0m 177ms/step - age_out_loss: 54.8781 - age_out_mae: 5.5755 - gender_out_accuracy: 0.8950 - gender_out_loss: 0.2485 - loss: 55.1266 - val_age_out_loss: 78.4881 - val_age_out_mae: 6.5083 - val_gender_out_accuracy: 0.8861 - val_gender_out_loss: 0.2589 - val_loss: 78.7470 - learning_rate: 5.0000e-04\n",
            "Epoch 24/100\n",
            "\u001b[1m149/149\u001b[0m \u001b[32m━━━━━━━━━━━━━━━━━━━━\u001b[0m\u001b[37m\u001b[0m \u001b[1m0s\u001b[0m 169ms/step - age_out_loss: 52.0441 - age_out_mae: 5.4593 - gender_out_accuracy: 0.9006 - gender_out_loss: 0.2364 - loss: 52.2804\n",
            "Epoch 24: val_gender_out_accuracy did not improve from 0.88612\n",
            "\u001b[1m149/149\u001b[0m \u001b[32m━━━━━━━━━━━━━━━━━━━━\u001b[0m\u001b[37m\u001b[0m \u001b[1m41s\u001b[0m 178ms/step - age_out_loss: 52.0515 - age_out_mae: 5.4595 - gender_out_accuracy: 0.9005 - gender_out_loss: 0.2364 - loss: 52.2879 - val_age_out_loss: 92.8566 - val_age_out_mae: 6.9360 - val_gender_out_accuracy: 0.8823 - val_gender_out_loss: 0.2602 - val_loss: 93.1168 - learning_rate: 5.0000e-04\n",
            "Epoch 25/100\n",
            "\u001b[1m149/149\u001b[0m \u001b[32m━━━━━━━━━━━━━━━━━━━━\u001b[0m\u001b[37m\u001b[0m \u001b[1m0s\u001b[0m 166ms/step - age_out_loss: 54.1863 - age_out_mae: 5.5014 - gender_out_accuracy: 0.8995 - gender_out_loss: 0.2351 - loss: 54.4214\n",
            "Epoch 25: val_gender_out_accuracy did not improve from 0.88612\n",
            "\u001b[1m149/149\u001b[0m \u001b[32m━━━━━━━━━━━━━━━━━━━━\u001b[0m\u001b[37m\u001b[0m \u001b[1m40s\u001b[0m 174ms/step - age_out_loss: 54.1800 - age_out_mae: 5.5013 - gender_out_accuracy: 0.8995 - gender_out_loss: 0.2351 - loss: 54.4152 - val_age_out_loss: 79.2227 - val_age_out_mae: 6.4657 - val_gender_out_accuracy: 0.8853 - val_gender_out_loss: 0.2598 - val_loss: 79.4825 - learning_rate: 5.0000e-04\n",
            "Epoch 26/100\n",
            "\u001b[1m149/149\u001b[0m \u001b[32m━━━━━━━━━━━━━━━━━━━━\u001b[0m\u001b[37m\u001b[0m \u001b[1m0s\u001b[0m 169ms/step - age_out_loss: 49.5611 - age_out_mae: 5.3063 - gender_out_accuracy: 0.8981 - gender_out_loss: 0.2306 - loss: 49.7917\n",
            "Epoch 26: val_gender_out_accuracy improved from 0.88612 to 0.88992, saving model to /content/drive/MyDrive/second_model.keras\n",
            "\n",
            "Epoch 26: ReduceLROnPlateau reducing learning rate to 0.0002500000118743628.\n",
            "\u001b[1m149/149\u001b[0m \u001b[32m━━━━━━━━━━━━━━━━━━━━\u001b[0m\u001b[37m\u001b[0m \u001b[1m42s\u001b[0m 178ms/step - age_out_loss: 49.5665 - age_out_mae: 5.3067 - gender_out_accuracy: 0.8981 - gender_out_loss: 0.2306 - loss: 49.7971 - val_age_out_loss: 78.5565 - val_age_out_mae: 6.4101 - val_gender_out_accuracy: 0.8899 - val_gender_out_loss: 0.2597 - val_loss: 78.8162 - learning_rate: 5.0000e-04\n",
            "Epoch 27/100\n",
            "\u001b[1m149/149\u001b[0m \u001b[32m━━━━━━━━━━━━━━━━━━━━\u001b[0m\u001b[37m\u001b[0m \u001b[1m0s\u001b[0m 173ms/step - age_out_loss: 46.1489 - age_out_mae: 5.1613 - gender_out_accuracy: 0.9046 - gender_out_loss: 0.2249 - loss: 46.3739\n",
            "Epoch 27: val_gender_out_accuracy did not improve from 0.88992\n",
            "\u001b[1m149/149\u001b[0m \u001b[32m━━━━━━━━━━━━━━━━━━━━\u001b[0m\u001b[37m\u001b[0m \u001b[1m27s\u001b[0m 182ms/step - age_out_loss: 46.1479 - age_out_mae: 5.1611 - gender_out_accuracy: 0.9046 - gender_out_loss: 0.2249 - loss: 46.3729 - val_age_out_loss: 76.3144 - val_age_out_mae: 6.3681 - val_gender_out_accuracy: 0.8861 - val_gender_out_loss: 0.2519 - val_loss: 76.5662 - learning_rate: 2.5000e-04\n",
            "Epoch 28/100\n",
            "\u001b[1m149/149\u001b[0m \u001b[32m━━━━━━━━━━━━━━━━━━━━\u001b[0m\u001b[37m\u001b[0m \u001b[1m0s\u001b[0m 168ms/step - age_out_loss: 43.4203 - age_out_mae: 5.0033 - gender_out_accuracy: 0.9113 - gender_out_loss: 0.2179 - loss: 43.6382\n",
            "Epoch 28: val_gender_out_accuracy did not improve from 0.88992\n",
            "\u001b[1m149/149\u001b[0m \u001b[32m━━━━━━━━━━━━━━━━━━━━\u001b[0m\u001b[37m\u001b[0m \u001b[1m40s\u001b[0m 175ms/step - age_out_loss: 43.4334 - age_out_mae: 5.0039 - gender_out_accuracy: 0.9113 - gender_out_loss: 0.2179 - loss: 43.6513 - val_age_out_loss: 85.4484 - val_age_out_mae: 6.8827 - val_gender_out_accuracy: 0.8840 - val_gender_out_loss: 0.2547 - val_loss: 85.7031 - learning_rate: 2.5000e-04\n",
            "Epoch 29/100\n",
            "\u001b[1m149/149\u001b[0m \u001b[32m━━━━━━━━━━━━━━━━━━━━\u001b[0m\u001b[37m\u001b[0m \u001b[1m0s\u001b[0m 169ms/step - age_out_loss: 44.3715 - age_out_mae: 5.0374 - gender_out_accuracy: 0.9108 - gender_out_loss: 0.2129 - loss: 44.5843\n",
            "Epoch 29: val_gender_out_accuracy improved from 0.88992 to 0.89076, saving model to /content/drive/MyDrive/second_model.keras\n",
            "\u001b[1m149/149\u001b[0m \u001b[32m━━━━━━━━━━━━━━━━━━━━\u001b[0m\u001b[37m\u001b[0m \u001b[1m27s\u001b[0m 180ms/step - age_out_loss: 44.3717 - age_out_mae: 5.0374 - gender_out_accuracy: 0.9108 - gender_out_loss: 0.2129 - loss: 44.5846 - val_age_out_loss: 77.6073 - val_age_out_mae: 6.4226 - val_gender_out_accuracy: 0.8908 - val_gender_out_loss: 0.2520 - val_loss: 77.8593 - learning_rate: 2.5000e-04\n",
            "Epoch 30/100\n",
            "\u001b[1m149/149\u001b[0m \u001b[32m━━━━━━━━━━━━━━━━━━━━\u001b[0m\u001b[37m\u001b[0m \u001b[1m0s\u001b[0m 173ms/step - age_out_loss: 42.4839 - age_out_mae: 4.8800 - gender_out_accuracy: 0.9114 - gender_out_loss: 0.2150 - loss: 42.6989\n",
            "Epoch 30: val_gender_out_accuracy did not improve from 0.89076\n",
            "\u001b[1m149/149\u001b[0m \u001b[32m━━━━━━━━━━━━━━━━━━━━\u001b[0m\u001b[37m\u001b[0m \u001b[1m27s\u001b[0m 182ms/step - age_out_loss: 42.4832 - age_out_mae: 4.8803 - gender_out_accuracy: 0.9114 - gender_out_loss: 0.2150 - loss: 42.6982 - val_age_out_loss: 76.0676 - val_age_out_mae: 6.3891 - val_gender_out_accuracy: 0.8899 - val_gender_out_loss: 0.2620 - val_loss: 76.3296 - learning_rate: 2.5000e-04\n",
            "Epoch 31/100\n",
            "\u001b[1m149/149\u001b[0m \u001b[32m━━━━━━━━━━━━━━━━━━━━\u001b[0m\u001b[37m\u001b[0m \u001b[1m0s\u001b[0m 168ms/step - age_out_loss: 42.8602 - age_out_mae: 4.9447 - gender_out_accuracy: 0.9141 - gender_out_loss: 0.2097 - loss: 43.0700\n",
            "Epoch 31: val_gender_out_accuracy did not improve from 0.89076\n",
            "\u001b[1m149/149\u001b[0m \u001b[32m━━━━━━━━━━━━━━━━━━━━\u001b[0m\u001b[37m\u001b[0m \u001b[1m26s\u001b[0m 177ms/step - age_out_loss: 42.8616 - age_out_mae: 4.9448 - gender_out_accuracy: 0.9141 - gender_out_loss: 0.2097 - loss: 43.0713 - val_age_out_loss: 79.7372 - val_age_out_mae: 6.4164 - val_gender_out_accuracy: 0.8891 - val_gender_out_loss: 0.2494 - val_loss: 79.9866 - learning_rate: 2.5000e-04\n",
            "Epoch 32/100\n",
            "\u001b[1m149/149\u001b[0m \u001b[32m━━━━━━━━━━━━━━━━━━━━\u001b[0m\u001b[37m\u001b[0m \u001b[1m0s\u001b[0m 170ms/step - age_out_loss: 41.5301 - age_out_mae: 4.8591 - gender_out_accuracy: 0.9110 - gender_out_loss: 0.2124 - loss: 41.7425\n",
            "Epoch 32: val_gender_out_accuracy did not improve from 0.89076\n",
            "\u001b[1m149/149\u001b[0m \u001b[32m━━━━━━━━━━━━━━━━━━━━\u001b[0m\u001b[37m\u001b[0m \u001b[1m26s\u001b[0m 177ms/step - age_out_loss: 41.5226 - age_out_mae: 4.8589 - gender_out_accuracy: 0.9110 - gender_out_loss: 0.2124 - loss: 41.7350 - val_age_out_loss: 76.5825 - val_age_out_mae: 6.3600 - val_gender_out_accuracy: 0.8878 - val_gender_out_loss: 0.2512 - val_loss: 76.8337 - learning_rate: 2.5000e-04\n",
            "Epoch 33/100\n",
            "\u001b[1m149/149\u001b[0m \u001b[32m━━━━━━━━━━━━━━━━━━━━\u001b[0m\u001b[37m\u001b[0m \u001b[1m0s\u001b[0m 168ms/step - age_out_loss: 40.0699 - age_out_mae: 4.8026 - gender_out_accuracy: 0.9154 - gender_out_loss: 0.2038 - loss: 40.2736\n",
            "Epoch 33: val_gender_out_accuracy did not improve from 0.89076\n",
            "\n",
            "Epoch 33: ReduceLROnPlateau reducing learning rate to 0.0001250000059371814.\n",
            "\u001b[1m149/149\u001b[0m \u001b[32m━━━━━━━━━━━━━━━━━━━━\u001b[0m\u001b[37m\u001b[0m \u001b[1m26s\u001b[0m 177ms/step - age_out_loss: 40.0689 - age_out_mae: 4.8026 - gender_out_accuracy: 0.9154 - gender_out_loss: 0.2038 - loss: 40.2727 - val_age_out_loss: 80.2029 - val_age_out_mae: 6.5526 - val_gender_out_accuracy: 0.8899 - val_gender_out_loss: 0.2496 - val_loss: 80.4526 - learning_rate: 2.5000e-04\n",
            "Epoch 34/100\n",
            "\u001b[1m149/149\u001b[0m \u001b[32m━━━━━━━━━━━━━━━━━━━━\u001b[0m\u001b[37m\u001b[0m \u001b[1m0s\u001b[0m 167ms/step - age_out_loss: 37.7886 - age_out_mae: 4.6757 - gender_out_accuracy: 0.9130 - gender_out_loss: 0.1982 - loss: 37.9868\n",
            "Epoch 34: val_gender_out_accuracy did not improve from 0.89076\n",
            "\u001b[1m149/149\u001b[0m \u001b[32m━━━━━━━━━━━━━━━━━━━━\u001b[0m\u001b[37m\u001b[0m \u001b[1m26s\u001b[0m 174ms/step - age_out_loss: 37.7860 - age_out_mae: 4.6755 - gender_out_accuracy: 0.9130 - gender_out_loss: 0.1982 - loss: 37.9842 - val_age_out_loss: 76.2119 - val_age_out_mae: 6.3706 - val_gender_out_accuracy: 0.8878 - val_gender_out_loss: 0.2480 - val_loss: 76.4599 - learning_rate: 1.2500e-04\n",
            "Epoch 35/100\n",
            "\u001b[1m149/149\u001b[0m \u001b[32m━━━━━━━━━━━━━━━━━━━━\u001b[0m\u001b[37m\u001b[0m \u001b[1m0s\u001b[0m 167ms/step - age_out_loss: 36.9166 - age_out_mae: 4.6149 - gender_out_accuracy: 0.9170 - gender_out_loss: 0.2008 - loss: 37.1174\n",
            "Epoch 35: val_gender_out_accuracy improved from 0.89076 to 0.89245, saving model to /content/drive/MyDrive/second_model.keras\n",
            "\u001b[1m149/149\u001b[0m \u001b[32m━━━━━━━━━━━━━━━━━━━━\u001b[0m\u001b[37m\u001b[0m \u001b[1m26s\u001b[0m 176ms/step - age_out_loss: 36.9154 - age_out_mae: 4.6147 - gender_out_accuracy: 0.9170 - gender_out_loss: 0.2008 - loss: 37.1162 - val_age_out_loss: 77.1923 - val_age_out_mae: 6.4047 - val_gender_out_accuracy: 0.8925 - val_gender_out_loss: 0.2490 - val_loss: 77.4413 - learning_rate: 1.2500e-04\n",
            "Epoch 36/100\n",
            "\u001b[1m149/149\u001b[0m \u001b[32m━━━━━━━━━━━━━━━━━━━━\u001b[0m\u001b[37m\u001b[0m \u001b[1m0s\u001b[0m 168ms/step - age_out_loss: 35.8595 - age_out_mae: 4.5471 - gender_out_accuracy: 0.9158 - gender_out_loss: 0.2030 - loss: 36.0625\n",
            "Epoch 36: val_gender_out_accuracy did not improve from 0.89245\n",
            "\n",
            "Epoch 36: ReduceLROnPlateau reducing learning rate to 6.25000029685907e-05.\n",
            "\u001b[1m149/149\u001b[0m \u001b[32m━━━━━━━━━━━━━━━━━━━━\u001b[0m\u001b[37m\u001b[0m \u001b[1m41s\u001b[0m 174ms/step - age_out_loss: 35.8625 - age_out_mae: 4.5474 - gender_out_accuracy: 0.9158 - gender_out_loss: 0.2030 - loss: 36.0654 - val_age_out_loss: 78.3862 - val_age_out_mae: 6.4955 - val_gender_out_accuracy: 0.8925 - val_gender_out_loss: 0.2473 - val_loss: 78.6335 - learning_rate: 1.2500e-04\n",
            "Epoch 37/100\n",
            "\u001b[1m149/149\u001b[0m \u001b[32m━━━━━━━━━━━━━━━━━━━━\u001b[0m\u001b[37m\u001b[0m \u001b[1m0s\u001b[0m 169ms/step - age_out_loss: 35.3165 - age_out_mae: 4.5182 - gender_out_accuracy: 0.9240 - gender_out_loss: 0.1961 - loss: 35.5127\n",
            "Epoch 37: val_gender_out_accuracy improved from 0.89245 to 0.89329, saving model to /content/drive/MyDrive/second_model.keras\n",
            "\u001b[1m149/149\u001b[0m \u001b[32m━━━━━━━━━━━━━━━━━━━━\u001b[0m\u001b[37m\u001b[0m \u001b[1m27s\u001b[0m 180ms/step - age_out_loss: 35.3148 - age_out_mae: 4.5182 - gender_out_accuracy: 0.9239 - gender_out_loss: 0.1961 - loss: 35.5109 - val_age_out_loss: 76.1809 - val_age_out_mae: 6.3376 - val_gender_out_accuracy: 0.8933 - val_gender_out_loss: 0.2488 - val_loss: 76.4297 - learning_rate: 6.2500e-05\n",
            "Epoch 38/100\n",
            "\u001b[1m149/149\u001b[0m \u001b[32m━━━━━━━━━━━━━━━━━━━━\u001b[0m\u001b[37m\u001b[0m \u001b[1m0s\u001b[0m 169ms/step - age_out_loss: 35.6231 - age_out_mae: 4.5600 - gender_out_accuracy: 0.9217 - gender_out_loss: 0.1950 - loss: 35.8182\n",
            "Epoch 38: val_gender_out_accuracy improved from 0.89329 to 0.89414, saving model to /content/drive/MyDrive/second_model.keras\n",
            "\u001b[1m149/149\u001b[0m \u001b[32m━━━━━━━━━━━━━━━━━━━━\u001b[0m\u001b[37m\u001b[0m \u001b[1m41s\u001b[0m 180ms/step - age_out_loss: 35.6183 - age_out_mae: 4.5596 - gender_out_accuracy: 0.9217 - gender_out_loss: 0.1950 - loss: 35.8133 - val_age_out_loss: 75.8949 - val_age_out_mae: 6.3583 - val_gender_out_accuracy: 0.8941 - val_gender_out_loss: 0.2465 - val_loss: 76.1414 - learning_rate: 6.2500e-05\n",
            "Epoch 39/100\n",
            "\u001b[1m149/149\u001b[0m \u001b[32m━━━━━━━━━━━━━━━━━━━━\u001b[0m\u001b[37m\u001b[0m \u001b[1m0s\u001b[0m 168ms/step - age_out_loss: 34.0475 - age_out_mae: 4.4549 - gender_out_accuracy: 0.9215 - gender_out_loss: 0.1922 - loss: 34.2397\n",
            "Epoch 39: val_gender_out_accuracy did not improve from 0.89414\n",
            "\u001b[1m149/149\u001b[0m \u001b[32m━━━━━━━━━━━━━━━━━━━━\u001b[0m\u001b[37m\u001b[0m \u001b[1m40s\u001b[0m 175ms/step - age_out_loss: 34.0501 - age_out_mae: 4.4550 - gender_out_accuracy: 0.9214 - gender_out_loss: 0.1923 - loss: 34.2423 - val_age_out_loss: 76.0504 - val_age_out_mae: 6.3609 - val_gender_out_accuracy: 0.8920 - val_gender_out_loss: 0.2497 - val_loss: 76.3001 - learning_rate: 6.2500e-05\n",
            "Epoch 40/100\n",
            "\u001b[1m149/149\u001b[0m \u001b[32m━━━━━━━━━━━━━━━━━━━━\u001b[0m\u001b[37m\u001b[0m \u001b[1m0s\u001b[0m 167ms/step - age_out_loss: 34.3966 - age_out_mae: 4.4670 - gender_out_accuracy: 0.9213 - gender_out_loss: 0.1922 - loss: 34.5889\n",
            "Epoch 40: val_gender_out_accuracy did not improve from 0.89414\n",
            "\u001b[1m149/149\u001b[0m \u001b[32m━━━━━━━━━━━━━━━━━━━━\u001b[0m\u001b[37m\u001b[0m \u001b[1m26s\u001b[0m 173ms/step - age_out_loss: 34.3972 - age_out_mae: 4.4671 - gender_out_accuracy: 0.9213 - gender_out_loss: 0.1923 - loss: 34.5895 - val_age_out_loss: 76.3097 - val_age_out_mae: 6.3508 - val_gender_out_accuracy: 0.8933 - val_gender_out_loss: 0.2473 - val_loss: 76.5570 - learning_rate: 6.2500e-05\n",
            "Epoch 41/100\n",
            "\u001b[1m149/149\u001b[0m \u001b[32m━━━━━━━━━━━━━━━━━━━━\u001b[0m\u001b[37m\u001b[0m \u001b[1m0s\u001b[0m 168ms/step - age_out_loss: 34.1289 - age_out_mae: 4.4563 - gender_out_accuracy: 0.9209 - gender_out_loss: 0.1963 - loss: 34.3252\n",
            "Epoch 41: val_gender_out_accuracy improved from 0.89414 to 0.89456, saving model to /content/drive/MyDrive/second_model.keras\n",
            "\n",
            "Epoch 41: ReduceLROnPlateau reducing learning rate to 3.125000148429535e-05.\n",
            "\u001b[1m149/149\u001b[0m \u001b[32m━━━━━━━━━━━━━━━━━━━━\u001b[0m\u001b[37m\u001b[0m \u001b[1m26s\u001b[0m 178ms/step - age_out_loss: 34.1255 - age_out_mae: 4.4561 - gender_out_accuracy: 0.9210 - gender_out_loss: 0.1963 - loss: 34.3218 - val_age_out_loss: 76.5343 - val_age_out_mae: 6.4050 - val_gender_out_accuracy: 0.8946 - val_gender_out_loss: 0.2485 - val_loss: 76.7829 - learning_rate: 6.2500e-05\n",
            "Epoch 42/100\n",
            "\u001b[1m149/149\u001b[0m \u001b[32m━━━━━━━━━━━━━━━━━━━━\u001b[0m\u001b[37m\u001b[0m \u001b[1m0s\u001b[0m 174ms/step - age_out_loss: 32.8889 - age_out_mae: 4.3741 - gender_out_accuracy: 0.9215 - gender_out_loss: 0.1929 - loss: 33.0818\n",
            "Epoch 42: val_gender_out_accuracy improved from 0.89456 to 0.89498, saving model to /content/drive/MyDrive/second_model.keras\n",
            "\u001b[1m149/149\u001b[0m \u001b[32m━━━━━━━━━━━━━━━━━━━━\u001b[0m\u001b[37m\u001b[0m \u001b[1m28s\u001b[0m 185ms/step - age_out_loss: 32.8899 - age_out_mae: 4.3741 - gender_out_accuracy: 0.9215 - gender_out_loss: 0.1929 - loss: 33.0828 - val_age_out_loss: 75.7625 - val_age_out_mae: 6.3467 - val_gender_out_accuracy: 0.8950 - val_gender_out_loss: 0.2481 - val_loss: 76.0106 - learning_rate: 3.1250e-05\n",
            "Epoch 43/100\n",
            "\u001b[1m149/149\u001b[0m \u001b[32m━━━━━━━━━━━━━━━━━━━━\u001b[0m\u001b[37m\u001b[0m \u001b[1m0s\u001b[0m 165ms/step - age_out_loss: 32.4575 - age_out_mae: 4.3220 - gender_out_accuracy: 0.9190 - gender_out_loss: 0.1969 - loss: 32.6544\n",
            "Epoch 43: val_gender_out_accuracy did not improve from 0.89498\n",
            "\u001b[1m149/149\u001b[0m \u001b[32m━━━━━━━━━━━━━━━━━━━━\u001b[0m\u001b[37m\u001b[0m \u001b[1m39s\u001b[0m 174ms/step - age_out_loss: 32.4602 - age_out_mae: 4.3222 - gender_out_accuracy: 0.9190 - gender_out_loss: 0.1969 - loss: 32.6571 - val_age_out_loss: 76.3475 - val_age_out_mae: 6.3816 - val_gender_out_accuracy: 0.8941 - val_gender_out_loss: 0.2475 - val_loss: 76.5950 - learning_rate: 3.1250e-05\n",
            "Epoch 44/100\n",
            "\u001b[1m149/149\u001b[0m \u001b[32m━━━━━━━━━━━━━━━━━━━━\u001b[0m\u001b[37m\u001b[0m \u001b[1m0s\u001b[0m 168ms/step - age_out_loss: 33.5451 - age_out_mae: 4.4259 - gender_out_accuracy: 0.9206 - gender_out_loss: 0.2004 - loss: 33.7455\n",
            "Epoch 44: val_gender_out_accuracy did not improve from 0.89498\n",
            "\u001b[1m149/149\u001b[0m \u001b[32m━━━━━━━━━━━━━━━━━━━━\u001b[0m\u001b[37m\u001b[0m \u001b[1m41s\u001b[0m 177ms/step - age_out_loss: 33.5432 - age_out_mae: 4.4257 - gender_out_accuracy: 0.9206 - gender_out_loss: 0.2004 - loss: 33.7436 - val_age_out_loss: 76.3548 - val_age_out_mae: 6.3746 - val_gender_out_accuracy: 0.8925 - val_gender_out_loss: 0.2490 - val_loss: 76.6038 - learning_rate: 3.1250e-05\n",
            "Epoch 45/100\n",
            "\u001b[1m149/149\u001b[0m \u001b[32m━━━━━━━━━━━━━━━━━━━━\u001b[0m\u001b[37m\u001b[0m \u001b[1m0s\u001b[0m 168ms/step - age_out_loss: 32.5458 - age_out_mae: 4.3476 - gender_out_accuracy: 0.9249 - gender_out_loss: 0.1878 - loss: 32.7336\n",
            "Epoch 45: val_gender_out_accuracy did not improve from 0.89498\n",
            "\n",
            "Epoch 45: ReduceLROnPlateau reducing learning rate to 1.5625000742147677e-05.\n",
            "\u001b[1m149/149\u001b[0m \u001b[32m━━━━━━━━━━━━━━━━━━━━\u001b[0m\u001b[37m\u001b[0m \u001b[1m41s\u001b[0m 177ms/step - age_out_loss: 32.5461 - age_out_mae: 4.3476 - gender_out_accuracy: 0.9248 - gender_out_loss: 0.1878 - loss: 32.7339 - val_age_out_loss: 76.2740 - val_age_out_mae: 6.3580 - val_gender_out_accuracy: 0.8933 - val_gender_out_loss: 0.2471 - val_loss: 76.5211 - learning_rate: 3.1250e-05\n",
            "Epoch 46/100\n",
            "\u001b[1m149/149\u001b[0m \u001b[32m━━━━━━━━━━━━━━━━━━━━\u001b[0m\u001b[37m\u001b[0m \u001b[1m0s\u001b[0m 170ms/step - age_out_loss: 33.0277 - age_out_mae: 4.3805 - gender_out_accuracy: 0.9216 - gender_out_loss: 0.1946 - loss: 33.2223\n",
            "Epoch 46: val_gender_out_accuracy did not improve from 0.89498\n",
            "\u001b[1m149/149\u001b[0m \u001b[32m━━━━━━━━━━━━━━━━━━━━\u001b[0m\u001b[37m\u001b[0m \u001b[1m41s\u001b[0m 179ms/step - age_out_loss: 33.0250 - age_out_mae: 4.3803 - gender_out_accuracy: 0.9216 - gender_out_loss: 0.1946 - loss: 33.2196 - val_age_out_loss: 76.5230 - val_age_out_mae: 6.3774 - val_gender_out_accuracy: 0.8946 - val_gender_out_loss: 0.2477 - val_loss: 76.7707 - learning_rate: 1.5625e-05\n",
            "Epoch 47/100\n",
            "\u001b[1m149/149\u001b[0m \u001b[32m━━━━━━━━━━━━━━━━━━━━\u001b[0m\u001b[37m\u001b[0m \u001b[1m0s\u001b[0m 168ms/step - age_out_loss: 33.4907 - age_out_mae: 4.3867 - gender_out_accuracy: 0.9213 - gender_out_loss: 0.1934 - loss: 33.6841\n",
            "Epoch 47: val_gender_out_accuracy did not improve from 0.89498\n",
            "\u001b[1m149/149\u001b[0m \u001b[32m━━━━━━━━━━━━━━━━━━━━\u001b[0m\u001b[37m\u001b[0m \u001b[1m41s\u001b[0m 177ms/step - age_out_loss: 33.4842 - age_out_mae: 4.3864 - gender_out_accuracy: 0.9213 - gender_out_loss: 0.1934 - loss: 33.6776 - val_age_out_loss: 76.4448 - val_age_out_mae: 6.3834 - val_gender_out_accuracy: 0.8950 - val_gender_out_loss: 0.2480 - val_loss: 76.6928 - learning_rate: 1.5625e-05\n",
            "Epoch 48/100\n",
            "\u001b[1m149/149\u001b[0m \u001b[32m━━━━━━━━━━━━━━━━━━━━\u001b[0m\u001b[37m\u001b[0m \u001b[1m0s\u001b[0m 165ms/step - age_out_loss: 31.5048 - age_out_mae: 4.2624 - gender_out_accuracy: 0.9224 - gender_out_loss: 0.1932 - loss: 31.6980\n",
            "Epoch 48: val_gender_out_accuracy did not improve from 0.89498\n",
            "\n",
            "Epoch 48: ReduceLROnPlateau reducing learning rate to 7.812500371073838e-06.\n",
            "\u001b[1m149/149\u001b[0m \u001b[32m━━━━━━━━━━━━━━━━━━━━\u001b[0m\u001b[37m\u001b[0m \u001b[1m40s\u001b[0m 173ms/step - age_out_loss: 31.5083 - age_out_mae: 4.2627 - gender_out_accuracy: 0.9224 - gender_out_loss: 0.1932 - loss: 31.7015 - val_age_out_loss: 76.4163 - val_age_out_mae: 6.3737 - val_gender_out_accuracy: 0.8933 - val_gender_out_loss: 0.2472 - val_loss: 76.6634 - learning_rate: 1.5625e-05\n",
            "Epoch 49/100\n",
            "\u001b[1m149/149\u001b[0m \u001b[32m━━━━━━━━━━━━━━━━━━━━\u001b[0m\u001b[37m\u001b[0m \u001b[1m0s\u001b[0m 165ms/step - age_out_loss: 31.7627 - age_out_mae: 4.2947 - gender_out_accuracy: 0.9223 - gender_out_loss: 0.1908 - loss: 31.9535\n",
            "Epoch 49: val_gender_out_accuracy did not improve from 0.89498\n",
            "\u001b[1m149/149\u001b[0m \u001b[32m━━━━━━━━━━━━━━━━━━━━\u001b[0m\u001b[37m\u001b[0m \u001b[1m26s\u001b[0m 174ms/step - age_out_loss: 31.7646 - age_out_mae: 4.2949 - gender_out_accuracy: 0.9223 - gender_out_loss: 0.1908 - loss: 31.9554 - val_age_out_loss: 76.3522 - val_age_out_mae: 6.3743 - val_gender_out_accuracy: 0.8946 - val_gender_out_loss: 0.2478 - val_loss: 76.6000 - learning_rate: 7.8125e-06\n",
            "Epoch 50/100\n",
            "\u001b[1m149/149\u001b[0m \u001b[32m━━━━━━━━━━━━━━━━━━━━\u001b[0m\u001b[37m\u001b[0m \u001b[1m0s\u001b[0m 166ms/step - age_out_loss: 32.1892 - age_out_mae: 4.3350 - gender_out_accuracy: 0.9221 - gender_out_loss: 0.1940 - loss: 32.3832\n",
            "Epoch 50: val_gender_out_accuracy did not improve from 0.89498\n",
            "\u001b[1m149/149\u001b[0m \u001b[32m━━━━━━━━━━━━━━━━━━━━\u001b[0m\u001b[37m\u001b[0m \u001b[1m26s\u001b[0m 175ms/step - age_out_loss: 32.1890 - age_out_mae: 4.3350 - gender_out_accuracy: 0.9221 - gender_out_loss: 0.1940 - loss: 32.3830 - val_age_out_loss: 76.4537 - val_age_out_mae: 6.3782 - val_gender_out_accuracy: 0.8941 - val_gender_out_loss: 0.2480 - val_loss: 76.7017 - learning_rate: 7.8125e-06\n",
            "Epoch 51/100\n",
            "\u001b[1m149/149\u001b[0m \u001b[32m━━━━━━━━━━━━━━━━━━━━\u001b[0m\u001b[37m\u001b[0m \u001b[1m0s\u001b[0m 167ms/step - age_out_loss: 32.0168 - age_out_mae: 4.3230 - gender_out_accuracy: 0.9247 - gender_out_loss: 0.1891 - loss: 32.2059\n",
            "Epoch 51: val_gender_out_accuracy did not improve from 0.89498\n",
            "\n",
            "Epoch 51: ReduceLROnPlateau reducing learning rate to 3.906250185536919e-06.\n",
            "\u001b[1m149/149\u001b[0m \u001b[32m━━━━━━━━━━━━━━━━━━━━\u001b[0m\u001b[37m\u001b[0m \u001b[1m26s\u001b[0m 176ms/step - age_out_loss: 32.0176 - age_out_mae: 4.3230 - gender_out_accuracy: 0.9247 - gender_out_loss: 0.1891 - loss: 32.2067 - val_age_out_loss: 76.4327 - val_age_out_mae: 6.3763 - val_gender_out_accuracy: 0.8941 - val_gender_out_loss: 0.2479 - val_loss: 76.6806 - learning_rate: 7.8125e-06\n",
            "Epoch 52/100\n",
            "\u001b[1m149/149\u001b[0m \u001b[32m━━━━━━━━━━━━━━━━━━━━\u001b[0m\u001b[37m\u001b[0m \u001b[1m0s\u001b[0m 166ms/step - age_out_loss: 32.1077 - age_out_mae: 4.3266 - gender_out_accuracy: 0.9213 - gender_out_loss: 0.1889 - loss: 32.2965\n",
            "Epoch 52: val_gender_out_accuracy improved from 0.89498 to 0.89540, saving model to /content/drive/MyDrive/second_model.keras\n",
            "\u001b[1m149/149\u001b[0m \u001b[32m━━━━━━━━━━━━━━━━━━━━\u001b[0m\u001b[37m\u001b[0m \u001b[1m26s\u001b[0m 176ms/step - age_out_loss: 32.1047 - age_out_mae: 4.3265 - gender_out_accuracy: 0.9213 - gender_out_loss: 0.1889 - loss: 32.2936 - val_age_out_loss: 76.5832 - val_age_out_mae: 6.3822 - val_gender_out_accuracy: 0.8954 - val_gender_out_loss: 0.2481 - val_loss: 76.8313 - learning_rate: 3.9063e-06\n",
            "Epoch 53/100\n",
            "\u001b[1m149/149\u001b[0m \u001b[32m━━━━━━━━━━━━━━━━━━━━\u001b[0m\u001b[37m\u001b[0m \u001b[1m0s\u001b[0m 172ms/step - age_out_loss: 31.7748 - age_out_mae: 4.2938 - gender_out_accuracy: 0.9242 - gender_out_loss: 0.1956 - loss: 31.9704\n",
            "Epoch 53: val_gender_out_accuracy did not improve from 0.89540\n",
            "\u001b[1m149/149\u001b[0m \u001b[32m━━━━━━━━━━━━━━━━━━━━\u001b[0m\u001b[37m\u001b[0m \u001b[1m27s\u001b[0m 180ms/step - age_out_loss: 31.7757 - age_out_mae: 4.2939 - gender_out_accuracy: 0.9242 - gender_out_loss: 0.1956 - loss: 31.9714 - val_age_out_loss: 76.4708 - val_age_out_mae: 6.3711 - val_gender_out_accuracy: 0.8950 - val_gender_out_loss: 0.2480 - val_loss: 76.7188 - learning_rate: 3.9063e-06\n",
            "Epoch 54/100\n",
            "\u001b[1m149/149\u001b[0m \u001b[32m━━━━━━━━━━━━━━━━━━━━\u001b[0m\u001b[37m\u001b[0m \u001b[1m0s\u001b[0m 166ms/step - age_out_loss: 32.0661 - age_out_mae: 4.2947 - gender_out_accuracy: 0.9262 - gender_out_loss: 0.1919 - loss: 32.2580\n",
            "Epoch 54: val_gender_out_accuracy did not improve from 0.89540\n",
            "\n",
            "Epoch 54: ReduceLROnPlateau reducing learning rate to 1.9531250927684596e-06.\n",
            "\u001b[1m149/149\u001b[0m \u001b[32m━━━━━━━━━━━━━━━━━━━━\u001b[0m\u001b[37m\u001b[0m \u001b[1m40s\u001b[0m 174ms/step - age_out_loss: 32.0644 - age_out_mae: 4.2947 - gender_out_accuracy: 0.9262 - gender_out_loss: 0.1919 - loss: 32.2564 - val_age_out_loss: 76.4314 - val_age_out_mae: 6.3699 - val_gender_out_accuracy: 0.8954 - val_gender_out_loss: 0.2479 - val_loss: 76.6794 - learning_rate: 3.9063e-06\n",
            "Epoch 55/100\n",
            "\u001b[1m149/149\u001b[0m \u001b[32m━━━━━━━━━━━━━━━━━━━━\u001b[0m\u001b[37m\u001b[0m \u001b[1m0s\u001b[0m 165ms/step - age_out_loss: 32.1485 - age_out_mae: 4.3063 - gender_out_accuracy: 0.9232 - gender_out_loss: 0.1932 - loss: 32.3417\n",
            "Epoch 55: val_gender_out_accuracy did not improve from 0.89540\n",
            "\u001b[1m149/149\u001b[0m \u001b[32m━━━━━━━━━━━━━━━━━━━━\u001b[0m\u001b[37m\u001b[0m \u001b[1m26s\u001b[0m 174ms/step - age_out_loss: 32.1483 - age_out_mae: 4.3063 - gender_out_accuracy: 0.9232 - gender_out_loss: 0.1932 - loss: 32.3415 - val_age_out_loss: 76.4775 - val_age_out_mae: 6.3710 - val_gender_out_accuracy: 0.8950 - val_gender_out_loss: 0.2479 - val_loss: 76.7254 - learning_rate: 1.9531e-06\n",
            "Epoch 56/100\n",
            "\u001b[1m149/149\u001b[0m \u001b[32m━━━━━━━━━━━━━━━━━━━━\u001b[0m\u001b[37m\u001b[0m \u001b[1m0s\u001b[0m 166ms/step - age_out_loss: 31.6483 - age_out_mae: 4.2891 - gender_out_accuracy: 0.9199 - gender_out_loss: 0.1977 - loss: 31.8460\n",
            "Epoch 56: val_gender_out_accuracy did not improve from 0.89540\n",
            "\u001b[1m149/149\u001b[0m \u001b[32m━━━━━━━━━━━━━━━━━━━━\u001b[0m\u001b[37m\u001b[0m \u001b[1m26s\u001b[0m 175ms/step - age_out_loss: 31.6475 - age_out_mae: 4.2890 - gender_out_accuracy: 0.9199 - gender_out_loss: 0.1977 - loss: 31.8451 - val_age_out_loss: 76.4084 - val_age_out_mae: 6.3712 - val_gender_out_accuracy: 0.8946 - val_gender_out_loss: 0.2479 - val_loss: 76.6563 - learning_rate: 1.9531e-06\n",
            "Epoch 57/100\n",
            "\u001b[1m149/149\u001b[0m \u001b[32m━━━━━━━━━━━━━━━━━━━━\u001b[0m\u001b[37m\u001b[0m \u001b[1m0s\u001b[0m 166ms/step - age_out_loss: 32.8629 - age_out_mae: 4.3631 - gender_out_accuracy: 0.9214 - gender_out_loss: 0.1956 - loss: 33.0585\n",
            "Epoch 57: val_gender_out_accuracy did not improve from 0.89540\n",
            "\n",
            "Epoch 57: ReduceLROnPlateau reducing learning rate to 1e-06.\n",
            "\u001b[1m149/149\u001b[0m \u001b[32m━━━━━━━━━━━━━━━━━━━━\u001b[0m\u001b[37m\u001b[0m \u001b[1m26s\u001b[0m 174ms/step - age_out_loss: 32.8556 - age_out_mae: 4.3626 - gender_out_accuracy: 0.9214 - gender_out_loss: 0.1956 - loss: 33.0512 - val_age_out_loss: 76.4218 - val_age_out_mae: 6.3695 - val_gender_out_accuracy: 0.8950 - val_gender_out_loss: 0.2477 - val_loss: 76.6696 - learning_rate: 1.9531e-06\n",
            "Epoch 58/100\n",
            "\u001b[1m149/149\u001b[0m \u001b[32m━━━━━━━━━━━━━━━━━━━━\u001b[0m\u001b[37m\u001b[0m \u001b[1m0s\u001b[0m 170ms/step - age_out_loss: 32.0358 - age_out_mae: 4.3190 - gender_out_accuracy: 0.9232 - gender_out_loss: 0.1964 - loss: 32.2322\n",
            "Epoch 58: val_gender_out_accuracy did not improve from 0.89540\n",
            "\u001b[1m149/149\u001b[0m \u001b[32m━━━━━━━━━━━━━━━━━━━━\u001b[0m\u001b[37m\u001b[0m \u001b[1m41s\u001b[0m 177ms/step - age_out_loss: 32.0355 - age_out_mae: 4.3189 - gender_out_accuracy: 0.9232 - gender_out_loss: 0.1963 - loss: 32.2318 - val_age_out_loss: 76.4335 - val_age_out_mae: 6.3707 - val_gender_out_accuracy: 0.8954 - val_gender_out_loss: 0.2478 - val_loss: 76.6813 - learning_rate: 1.0000e-06\n",
            "Epoch 59/100\n",
            "\u001b[1m149/149\u001b[0m \u001b[32m━━━━━━━━━━━━━━━━━━━━\u001b[0m\u001b[37m\u001b[0m \u001b[1m0s\u001b[0m 169ms/step - age_out_loss: 32.0206 - age_out_mae: 4.3180 - gender_out_accuracy: 0.9216 - gender_out_loss: 0.1944 - loss: 32.2149\n",
            "Epoch 59: val_gender_out_accuracy did not improve from 0.89540\n",
            "\u001b[1m149/149\u001b[0m \u001b[32m━━━━━━━━━━━━━━━━━━━━\u001b[0m\u001b[37m\u001b[0m \u001b[1m41s\u001b[0m 178ms/step - age_out_loss: 32.0191 - age_out_mae: 4.3178 - gender_out_accuracy: 0.9216 - gender_out_loss: 0.1943 - loss: 32.2135 - val_age_out_loss: 76.4367 - val_age_out_mae: 6.3727 - val_gender_out_accuracy: 0.8954 - val_gender_out_loss: 0.2478 - val_loss: 76.6845 - learning_rate: 1.0000e-06\n",
            "Epoch 60/100\n",
            "\u001b[1m149/149\u001b[0m \u001b[32m━━━━━━━━━━━━━━━━━━━━\u001b[0m\u001b[37m\u001b[0m \u001b[1m0s\u001b[0m 168ms/step - age_out_loss: 32.2721 - age_out_mae: 4.3287 - gender_out_accuracy: 0.9211 - gender_out_loss: 0.1897 - loss: 32.4618\n",
            "Epoch 60: val_gender_out_accuracy did not improve from 0.89540\n",
            "\u001b[1m149/149\u001b[0m \u001b[32m━━━━━━━━━━━━━━━━━━━━\u001b[0m\u001b[37m\u001b[0m \u001b[1m26s\u001b[0m 175ms/step - age_out_loss: 32.2698 - age_out_mae: 4.3285 - gender_out_accuracy: 0.9211 - gender_out_loss: 0.1897 - loss: 32.4595 - val_age_out_loss: 76.4318 - val_age_out_mae: 6.3736 - val_gender_out_accuracy: 0.8954 - val_gender_out_loss: 0.2479 - val_loss: 76.6797 - learning_rate: 1.0000e-06\n",
            "Epoch 61/100\n",
            "\u001b[1m149/149\u001b[0m \u001b[32m━━━━━━━━━━━━━━━━━━━━\u001b[0m\u001b[37m\u001b[0m \u001b[1m0s\u001b[0m 169ms/step - age_out_loss: 32.5059 - age_out_mae: 4.3497 - gender_out_accuracy: 0.9202 - gender_out_loss: 0.1947 - loss: 32.7006\n",
            "Epoch 61: val_gender_out_accuracy did not improve from 0.89540\n",
            "\u001b[1m149/149\u001b[0m \u001b[32m━━━━━━━━━━━━━━━━━━━━\u001b[0m\u001b[37m\u001b[0m \u001b[1m27s\u001b[0m 178ms/step - age_out_loss: 32.5004 - age_out_mae: 4.3494 - gender_out_accuracy: 0.9202 - gender_out_loss: 0.1947 - loss: 32.6951 - val_age_out_loss: 76.4212 - val_age_out_mae: 6.3722 - val_gender_out_accuracy: 0.8950 - val_gender_out_loss: 0.2479 - val_loss: 76.6691 - learning_rate: 1.0000e-06\n",
            "Epoch 62/100\n",
            "\u001b[1m149/149\u001b[0m \u001b[32m━━━━━━━━━━━━━━━━━━━━\u001b[0m\u001b[37m\u001b[0m \u001b[1m0s\u001b[0m 169ms/step - age_out_loss: 30.9873 - age_out_mae: 4.2623 - gender_out_accuracy: 0.9201 - gender_out_loss: 0.1962 - loss: 31.1835\n",
            "Epoch 62: val_gender_out_accuracy did not improve from 0.89540\n",
            "\u001b[1m149/149\u001b[0m \u001b[32m━━━━━━━━━━━━━━━━━━━━\u001b[0m\u001b[37m\u001b[0m \u001b[1m41s\u001b[0m 176ms/step - age_out_loss: 30.9920 - age_out_mae: 4.2626 - gender_out_accuracy: 0.9201 - gender_out_loss: 0.1961 - loss: 31.1882 - val_age_out_loss: 76.4484 - val_age_out_mae: 6.3735 - val_gender_out_accuracy: 0.8954 - val_gender_out_loss: 0.2479 - val_loss: 76.6963 - learning_rate: 1.0000e-06\n",
            "Epoch 63/100\n",
            "\u001b[1m149/149\u001b[0m \u001b[32m━━━━━━━━━━━━━━━━━━━━\u001b[0m\u001b[37m\u001b[0m \u001b[1m0s\u001b[0m 168ms/step - age_out_loss: 31.0642 - age_out_mae: 4.2400 - gender_out_accuracy: 0.9222 - gender_out_loss: 0.1895 - loss: 31.2537\n",
            "Epoch 63: val_gender_out_accuracy did not improve from 0.89540\n",
            "\u001b[1m149/149\u001b[0m \u001b[32m━━━━━━━━━━━━━━━━━━━━\u001b[0m\u001b[37m\u001b[0m \u001b[1m41s\u001b[0m 177ms/step - age_out_loss: 31.0666 - age_out_mae: 4.2402 - gender_out_accuracy: 0.9222 - gender_out_loss: 0.1896 - loss: 31.2562 - val_age_out_loss: 76.4292 - val_age_out_mae: 6.3715 - val_gender_out_accuracy: 0.8950 - val_gender_out_loss: 0.2479 - val_loss: 76.6771 - learning_rate: 1.0000e-06\n",
            "Epoch 64/100\n",
            "\u001b[1m149/149\u001b[0m \u001b[32m━━━━━━━━━━━━━━━━━━━━\u001b[0m\u001b[37m\u001b[0m \u001b[1m0s\u001b[0m 168ms/step - age_out_loss: 31.8423 - age_out_mae: 4.2752 - gender_out_accuracy: 0.9225 - gender_out_loss: 0.1955 - loss: 32.0378\n",
            "Epoch 64: val_gender_out_accuracy did not improve from 0.89540\n",
            "\u001b[1m149/149\u001b[0m \u001b[32m━━━━━━━━━━━━━━━━━━━━\u001b[0m\u001b[37m\u001b[0m \u001b[1m26s\u001b[0m 175ms/step - age_out_loss: 31.8408 - age_out_mae: 4.2753 - gender_out_accuracy: 0.9225 - gender_out_loss: 0.1954 - loss: 32.0363 - val_age_out_loss: 76.4612 - val_age_out_mae: 6.3755 - val_gender_out_accuracy: 0.8950 - val_gender_out_loss: 0.2479 - val_loss: 76.7091 - learning_rate: 1.0000e-06\n",
            "Epoch 65/100\n",
            "\u001b[1m149/149\u001b[0m \u001b[32m━━━━━━━━━━━━━━━━━━━━\u001b[0m\u001b[37m\u001b[0m \u001b[1m0s\u001b[0m 166ms/step - age_out_loss: 31.5837 - age_out_mae: 4.2490 - gender_out_accuracy: 0.9213 - gender_out_loss: 0.1899 - loss: 31.7736\n",
            "Epoch 65: val_gender_out_accuracy did not improve from 0.89540\n",
            "\u001b[1m149/149\u001b[0m \u001b[32m━━━━━━━━━━━━━━━━━━━━\u001b[0m\u001b[37m\u001b[0m \u001b[1m41s\u001b[0m 175ms/step - age_out_loss: 31.5853 - age_out_mae: 4.2492 - gender_out_accuracy: 0.9213 - gender_out_loss: 0.1899 - loss: 31.7752 - val_age_out_loss: 76.4252 - val_age_out_mae: 6.3726 - val_gender_out_accuracy: 0.8950 - val_gender_out_loss: 0.2479 - val_loss: 76.6731 - learning_rate: 1.0000e-06\n",
            "Epoch 66/100\n",
            "\u001b[1m149/149\u001b[0m \u001b[32m━━━━━━━━━━━━━━━━━━━━\u001b[0m\u001b[37m\u001b[0m \u001b[1m0s\u001b[0m 168ms/step - age_out_loss: 31.3640 - age_out_mae: 4.2952 - gender_out_accuracy: 0.9220 - gender_out_loss: 0.1953 - loss: 31.5592\n",
            "Epoch 66: val_gender_out_accuracy did not improve from 0.89540\n",
            "\u001b[1m149/149\u001b[0m \u001b[32m━━━━━━━━━━━━━━━━━━━━\u001b[0m\u001b[37m\u001b[0m \u001b[1m41s\u001b[0m 177ms/step - age_out_loss: 31.3664 - age_out_mae: 4.2953 - gender_out_accuracy: 0.9220 - gender_out_loss: 0.1953 - loss: 31.5616 - val_age_out_loss: 76.4498 - val_age_out_mae: 6.3733 - val_gender_out_accuracy: 0.8950 - val_gender_out_loss: 0.2479 - val_loss: 76.6977 - learning_rate: 1.0000e-06\n",
            "Epoch 67/100\n",
            "\u001b[1m149/149\u001b[0m \u001b[32m━━━━━━━━━━━━━━━━━━━━\u001b[0m\u001b[37m\u001b[0m \u001b[1m0s\u001b[0m 168ms/step - age_out_loss: 31.6226 - age_out_mae: 4.2817 - gender_out_accuracy: 0.9195 - gender_out_loss: 0.1965 - loss: 31.8191\n",
            "Epoch 67: val_gender_out_accuracy did not improve from 0.89540\n",
            "\u001b[1m149/149\u001b[0m \u001b[32m━━━━━━━━━━━━━━━━━━━━\u001b[0m\u001b[37m\u001b[0m \u001b[1m41s\u001b[0m 177ms/step - age_out_loss: 31.6235 - age_out_mae: 4.2818 - gender_out_accuracy: 0.9195 - gender_out_loss: 0.1964 - loss: 31.8199 - val_age_out_loss: 76.4007 - val_age_out_mae: 6.3688 - val_gender_out_accuracy: 0.8954 - val_gender_out_loss: 0.2478 - val_loss: 76.6485 - learning_rate: 1.0000e-06\n",
            "Epoch 68/100\n",
            "\u001b[1m149/149\u001b[0m \u001b[32m━━━━━━━━━━━━━━━━━━━━\u001b[0m\u001b[37m\u001b[0m \u001b[1m0s\u001b[0m 170ms/step - age_out_loss: 32.3062 - age_out_mae: 4.3317 - gender_out_accuracy: 0.9251 - gender_out_loss: 0.1912 - loss: 32.4974\n",
            "Epoch 68: val_gender_out_accuracy did not improve from 0.89540\n",
            "\u001b[1m149/149\u001b[0m \u001b[32m━━━━━━━━━━━━━━━━━━━━\u001b[0m\u001b[37m\u001b[0m \u001b[1m27s\u001b[0m 179ms/step - age_out_loss: 32.3037 - age_out_mae: 4.3315 - gender_out_accuracy: 0.9251 - gender_out_loss: 0.1913 - loss: 32.4949 - val_age_out_loss: 76.4225 - val_age_out_mae: 6.3754 - val_gender_out_accuracy: 0.8954 - val_gender_out_loss: 0.2479 - val_loss: 76.6704 - learning_rate: 1.0000e-06\n",
            "Epoch 69/100\n",
            "\u001b[1m149/149\u001b[0m \u001b[32m━━━━━━━━━━━━━━━━━━━━\u001b[0m\u001b[37m\u001b[0m \u001b[1m0s\u001b[0m 170ms/step - age_out_loss: 31.9493 - age_out_mae: 4.3060 - gender_out_accuracy: 0.9248 - gender_out_loss: 0.1894 - loss: 32.1387\n",
            "Epoch 69: val_gender_out_accuracy did not improve from 0.89540\n",
            "\u001b[1m149/149\u001b[0m \u001b[32m━━━━━━━━━━━━━━━━━━━━\u001b[0m\u001b[37m\u001b[0m \u001b[1m41s\u001b[0m 179ms/step - age_out_loss: 31.9468 - age_out_mae: 4.3059 - gender_out_accuracy: 0.9248 - gender_out_loss: 0.1894 - loss: 32.1362 - val_age_out_loss: 76.4565 - val_age_out_mae: 6.3777 - val_gender_out_accuracy: 0.8954 - val_gender_out_loss: 0.2480 - val_loss: 76.7045 - learning_rate: 1.0000e-06\n",
            "Epoch 70/100\n",
            "\u001b[1m149/149\u001b[0m \u001b[32m━━━━━━━━━━━━━━━━━━━━\u001b[0m\u001b[37m\u001b[0m \u001b[1m0s\u001b[0m 169ms/step - age_out_loss: 31.1848 - age_out_mae: 4.2558 - gender_out_accuracy: 0.9233 - gender_out_loss: 0.1945 - loss: 31.3794\n",
            "Epoch 70: val_gender_out_accuracy did not improve from 0.89540\n",
            "\u001b[1m149/149\u001b[0m \u001b[32m━━━━━━━━━━━━━━━━━━━━\u001b[0m\u001b[37m\u001b[0m \u001b[1m41s\u001b[0m 178ms/step - age_out_loss: 31.1871 - age_out_mae: 4.2560 - gender_out_accuracy: 0.9233 - gender_out_loss: 0.1945 - loss: 31.3816 - val_age_out_loss: 76.4686 - val_age_out_mae: 6.3765 - val_gender_out_accuracy: 0.8954 - val_gender_out_loss: 0.2481 - val_loss: 76.7166 - learning_rate: 1.0000e-06\n",
            "Epoch 71/100\n",
            "\u001b[1m149/149\u001b[0m \u001b[32m━━━━━━━━━━━━━━━━━━━━\u001b[0m\u001b[37m\u001b[0m \u001b[1m0s\u001b[0m 168ms/step - age_out_loss: 31.6812 - age_out_mae: 4.2934 - gender_out_accuracy: 0.9217 - gender_out_loss: 0.1935 - loss: 31.8747\n",
            "Epoch 71: val_gender_out_accuracy did not improve from 0.89540\n",
            "\u001b[1m149/149\u001b[0m \u001b[32m━━━━━━━━━━━━━━━━━━━━\u001b[0m\u001b[37m\u001b[0m \u001b[1m41s\u001b[0m 176ms/step - age_out_loss: 31.6822 - age_out_mae: 4.2935 - gender_out_accuracy: 0.9217 - gender_out_loss: 0.1935 - loss: 31.8757 - val_age_out_loss: 76.4286 - val_age_out_mae: 6.3718 - val_gender_out_accuracy: 0.8950 - val_gender_out_loss: 0.2480 - val_loss: 76.6766 - learning_rate: 1.0000e-06\n",
            "Epoch 72/100\n",
            "\u001b[1m149/149\u001b[0m \u001b[32m━━━━━━━━━━━━━━━━━━━━\u001b[0m\u001b[37m\u001b[0m \u001b[1m0s\u001b[0m 171ms/step - age_out_loss: 31.4736 - age_out_mae: 4.2823 - gender_out_accuracy: 0.9279 - gender_out_loss: 0.1851 - loss: 31.6586\n",
            "Epoch 72: val_gender_out_accuracy did not improve from 0.89540\n",
            "\u001b[1m149/149\u001b[0m \u001b[32m━━━━━━━━━━━━━━━━━━━━\u001b[0m\u001b[37m\u001b[0m \u001b[1m41s\u001b[0m 178ms/step - age_out_loss: 31.4753 - age_out_mae: 4.2824 - gender_out_accuracy: 0.9278 - gender_out_loss: 0.1851 - loss: 31.6604 - val_age_out_loss: 76.3999 - val_age_out_mae: 6.3703 - val_gender_out_accuracy: 0.8950 - val_gender_out_loss: 0.2480 - val_loss: 76.6479 - learning_rate: 1.0000e-06\n",
            "Epoch 73/100\n",
            "\u001b[1m149/149\u001b[0m \u001b[32m━━━━━━━━━━━━━━━━━━━━\u001b[0m\u001b[37m\u001b[0m \u001b[1m0s\u001b[0m 167ms/step - age_out_loss: 31.4810 - age_out_mae: 4.3004 - gender_out_accuracy: 0.9245 - gender_out_loss: 0.1908 - loss: 31.6718\n",
            "Epoch 73: val_gender_out_accuracy did not improve from 0.89540\n",
            "\u001b[1m149/149\u001b[0m \u001b[32m━━━━━━━━━━━━━━━━━━━━\u001b[0m\u001b[37m\u001b[0m \u001b[1m26s\u001b[0m 175ms/step - age_out_loss: 31.4824 - age_out_mae: 4.3003 - gender_out_accuracy: 0.9245 - gender_out_loss: 0.1908 - loss: 31.6732 - val_age_out_loss: 76.4277 - val_age_out_mae: 6.3714 - val_gender_out_accuracy: 0.8950 - val_gender_out_loss: 0.2481 - val_loss: 76.6758 - learning_rate: 1.0000e-06\n",
            "Epoch 74/100\n",
            "\u001b[1m149/149\u001b[0m \u001b[32m━━━━━━━━━━━━━━━━━━━━\u001b[0m\u001b[37m\u001b[0m \u001b[1m0s\u001b[0m 168ms/step - age_out_loss: 30.8439 - age_out_mae: 4.2274 - gender_out_accuracy: 0.9173 - gender_out_loss: 0.2025 - loss: 31.0463\n",
            "Epoch 74: val_gender_out_accuracy did not improve from 0.89540\n",
            "\u001b[1m149/149\u001b[0m \u001b[32m━━━━━━━━━━━━━━━━━━━━\u001b[0m\u001b[37m\u001b[0m \u001b[1m41s\u001b[0m 177ms/step - age_out_loss: 30.8492 - age_out_mae: 4.2277 - gender_out_accuracy: 0.9174 - gender_out_loss: 0.2024 - loss: 31.0516 - val_age_out_loss: 76.4349 - val_age_out_mae: 6.3733 - val_gender_out_accuracy: 0.8950 - val_gender_out_loss: 0.2480 - val_loss: 76.6829 - learning_rate: 1.0000e-06\n",
            "Epoch 75/100\n",
            "\u001b[1m149/149\u001b[0m \u001b[32m━━━━━━━━━━━━━━━━━━━━\u001b[0m\u001b[37m\u001b[0m \u001b[1m0s\u001b[0m 168ms/step - age_out_loss: 31.5616 - age_out_mae: 4.2894 - gender_out_accuracy: 0.9267 - gender_out_loss: 0.1880 - loss: 31.7495\n",
            "Epoch 75: val_gender_out_accuracy did not improve from 0.89540\n",
            "\u001b[1m149/149\u001b[0m \u001b[32m━━━━━━━━━━━━━━━━━━━━\u001b[0m\u001b[37m\u001b[0m \u001b[1m41s\u001b[0m 177ms/step - age_out_loss: 31.5628 - age_out_mae: 4.2895 - gender_out_accuracy: 0.9267 - gender_out_loss: 0.1880 - loss: 31.7508 - val_age_out_loss: 76.4331 - val_age_out_mae: 6.3732 - val_gender_out_accuracy: 0.8950 - val_gender_out_loss: 0.2481 - val_loss: 76.6812 - learning_rate: 1.0000e-06\n",
            "Epoch 76/100\n",
            "\u001b[1m149/149\u001b[0m \u001b[32m━━━━━━━━━━━━━━━━━━━━\u001b[0m\u001b[37m\u001b[0m \u001b[1m0s\u001b[0m 170ms/step - age_out_loss: 31.3598 - age_out_mae: 4.2683 - gender_out_accuracy: 0.9222 - gender_out_loss: 0.1896 - loss: 31.5494\n",
            "Epoch 76: val_gender_out_accuracy did not improve from 0.89540\n",
            "\u001b[1m149/149\u001b[0m \u001b[32m━━━━━━━━━━━━━━━━━━━━\u001b[0m\u001b[37m\u001b[0m \u001b[1m27s\u001b[0m 179ms/step - age_out_loss: 31.3604 - age_out_mae: 4.2683 - gender_out_accuracy: 0.9222 - gender_out_loss: 0.1896 - loss: 31.5500 - val_age_out_loss: 76.4198 - val_age_out_mae: 6.3711 - val_gender_out_accuracy: 0.8950 - val_gender_out_loss: 0.2481 - val_loss: 76.6679 - learning_rate: 1.0000e-06\n",
            "Epoch 77/100\n",
            "\u001b[1m149/149\u001b[0m \u001b[32m━━━━━━━━━━━━━━━━━━━━\u001b[0m\u001b[37m\u001b[0m \u001b[1m0s\u001b[0m 170ms/step - age_out_loss: 31.9022 - age_out_mae: 4.3179 - gender_out_accuracy: 0.9231 - gender_out_loss: 0.1927 - loss: 32.0949\n",
            "Epoch 77: val_gender_out_accuracy did not improve from 0.89540\n",
            "\u001b[1m149/149\u001b[0m \u001b[32m━━━━━━━━━━━━━━━━━━━━\u001b[0m\u001b[37m\u001b[0m \u001b[1m26s\u001b[0m 177ms/step - age_out_loss: 31.9015 - age_out_mae: 4.3178 - gender_out_accuracy: 0.9231 - gender_out_loss: 0.1927 - loss: 32.0942 - val_age_out_loss: 76.4401 - val_age_out_mae: 6.3712 - val_gender_out_accuracy: 0.8950 - val_gender_out_loss: 0.2481 - val_loss: 76.6882 - learning_rate: 1.0000e-06\n",
            "Epoch 78/100\n",
            "\u001b[1m149/149\u001b[0m \u001b[32m━━━━━━━━━━━━━━━━━━━━\u001b[0m\u001b[37m\u001b[0m \u001b[1m0s\u001b[0m 170ms/step - age_out_loss: 31.2733 - age_out_mae: 4.2920 - gender_out_accuracy: 0.9218 - gender_out_loss: 0.1933 - loss: 31.4666\n",
            "Epoch 78: val_gender_out_accuracy did not improve from 0.89540\n",
            "\u001b[1m149/149\u001b[0m \u001b[32m━━━━━━━━━━━━━━━━━━━━\u001b[0m\u001b[37m\u001b[0m \u001b[1m26s\u001b[0m 177ms/step - age_out_loss: 31.2752 - age_out_mae: 4.2919 - gender_out_accuracy: 0.9218 - gender_out_loss: 0.1933 - loss: 31.4685 - val_age_out_loss: 76.4496 - val_age_out_mae: 6.3747 - val_gender_out_accuracy: 0.8950 - val_gender_out_loss: 0.2481 - val_loss: 76.6977 - learning_rate: 1.0000e-06\n",
            "Epoch 79/100\n",
            "\u001b[1m149/149\u001b[0m \u001b[32m━━━━━━━━━━━━━━━━━━━━\u001b[0m\u001b[37m\u001b[0m \u001b[1m0s\u001b[0m 175ms/step - age_out_loss: 31.8295 - age_out_mae: 4.2996 - gender_out_accuracy: 0.9228 - gender_out_loss: 0.1925 - loss: 32.0220\n",
            "Epoch 79: val_gender_out_accuracy did not improve from 0.89540\n",
            "\u001b[1m149/149\u001b[0m \u001b[32m━━━━━━━━━━━━━━━━━━━━\u001b[0m\u001b[37m\u001b[0m \u001b[1m27s\u001b[0m 184ms/step - age_out_loss: 31.8302 - age_out_mae: 4.2996 - gender_out_accuracy: 0.9228 - gender_out_loss: 0.1925 - loss: 32.0227 - val_age_out_loss: 76.4267 - val_age_out_mae: 6.3725 - val_gender_out_accuracy: 0.8946 - val_gender_out_loss: 0.2481 - val_loss: 76.6747 - learning_rate: 1.0000e-06\n",
            "Epoch 80/100\n",
            "\u001b[1m149/149\u001b[0m \u001b[32m━━━━━━━━━━━━━━━━━━━━\u001b[0m\u001b[37m\u001b[0m \u001b[1m0s\u001b[0m 178ms/step - age_out_loss: 31.2217 - age_out_mae: 4.2495 - gender_out_accuracy: 0.9269 - gender_out_loss: 0.1931 - loss: 31.4148\n",
            "Epoch 80: val_gender_out_accuracy did not improve from 0.89540\n",
            "\u001b[1m149/149\u001b[0m \u001b[32m━━━━━━━━━━━━━━━━━━━━\u001b[0m\u001b[37m\u001b[0m \u001b[1m28s\u001b[0m 186ms/step - age_out_loss: 31.2231 - age_out_mae: 4.2497 - gender_out_accuracy: 0.9269 - gender_out_loss: 0.1931 - loss: 31.4162 - val_age_out_loss: 76.4183 - val_age_out_mae: 6.3693 - val_gender_out_accuracy: 0.8941 - val_gender_out_loss: 0.2480 - val_loss: 76.6663 - learning_rate: 1.0000e-06\n",
            "Epoch 81/100\n",
            "\u001b[1m149/149\u001b[0m \u001b[32m━━━━━━━━━━━━━━━━━━━━\u001b[0m\u001b[37m\u001b[0m \u001b[1m0s\u001b[0m 173ms/step - age_out_loss: 31.6751 - age_out_mae: 4.2707 - gender_out_accuracy: 0.9228 - gender_out_loss: 0.1897 - loss: 31.8648\n",
            "Epoch 81: val_gender_out_accuracy did not improve from 0.89540\n",
            "\u001b[1m149/149\u001b[0m \u001b[32m━━━━━━━━━━━━━━━━━━━━\u001b[0m\u001b[37m\u001b[0m \u001b[1m40s\u001b[0m 180ms/step - age_out_loss: 31.6739 - age_out_mae: 4.2707 - gender_out_accuracy: 0.9228 - gender_out_loss: 0.1897 - loss: 31.8636 - val_age_out_loss: 76.4769 - val_age_out_mae: 6.3763 - val_gender_out_accuracy: 0.8950 - val_gender_out_loss: 0.2480 - val_loss: 76.7249 - learning_rate: 1.0000e-06\n",
            "Epoch 82/100\n",
            "\u001b[1m149/149\u001b[0m \u001b[32m━━━━━━━━━━━━━━━━━━━━\u001b[0m\u001b[37m\u001b[0m \u001b[1m0s\u001b[0m 177ms/step - age_out_loss: 32.1811 - age_out_mae: 4.3212 - gender_out_accuracy: 0.9228 - gender_out_loss: 0.1882 - loss: 32.3693\n",
            "Epoch 82: val_gender_out_accuracy did not improve from 0.89540\n",
            "\u001b[1m149/149\u001b[0m \u001b[32m━━━━━━━━━━━━━━━━━━━━\u001b[0m\u001b[37m\u001b[0m \u001b[1m28s\u001b[0m 186ms/step - age_out_loss: 32.1774 - age_out_mae: 4.3210 - gender_out_accuracy: 0.9228 - gender_out_loss: 0.1883 - loss: 32.3657 - val_age_out_loss: 76.4582 - val_age_out_mae: 6.3710 - val_gender_out_accuracy: 0.8950 - val_gender_out_loss: 0.2480 - val_loss: 76.7061 - learning_rate: 1.0000e-06\n",
            "Epoch 83/100\n",
            "\u001b[1m149/149\u001b[0m \u001b[32m━━━━━━━━━━━━━━━━━━━━\u001b[0m\u001b[37m\u001b[0m \u001b[1m0s\u001b[0m 176ms/step - age_out_loss: 30.6414 - age_out_mae: 4.2302 - gender_out_accuracy: 0.9216 - gender_out_loss: 0.1946 - loss: 30.8361\n",
            "Epoch 83: val_gender_out_accuracy did not improve from 0.89540\n",
            "\u001b[1m149/149\u001b[0m \u001b[32m━━━━━━━━━━━━━━━━━━━━\u001b[0m\u001b[37m\u001b[0m \u001b[1m28s\u001b[0m 185ms/step - age_out_loss: 30.6477 - age_out_mae: 4.2306 - gender_out_accuracy: 0.9216 - gender_out_loss: 0.1946 - loss: 30.8423 - val_age_out_loss: 76.4688 - val_age_out_mae: 6.3732 - val_gender_out_accuracy: 0.8950 - val_gender_out_loss: 0.2480 - val_loss: 76.7168 - learning_rate: 1.0000e-06\n",
            "Epoch 84/100\n",
            "\u001b[1m149/149\u001b[0m \u001b[32m━━━━━━━━━━━━━━━━━━━━\u001b[0m\u001b[37m\u001b[0m \u001b[1m0s\u001b[0m 194ms/step - age_out_loss: 31.0561 - age_out_mae: 4.2363 - gender_out_accuracy: 0.9217 - gender_out_loss: 0.1946 - loss: 31.2507\n",
            "Epoch 84: val_gender_out_accuracy did not improve from 0.89540\n",
            "\u001b[1m149/149\u001b[0m \u001b[32m━━━━━━━━━━━━━━━━━━━━\u001b[0m\u001b[37m\u001b[0m \u001b[1m30s\u001b[0m 203ms/step - age_out_loss: 31.0608 - age_out_mae: 4.2367 - gender_out_accuracy: 0.9217 - gender_out_loss: 0.1946 - loss: 31.2554 - val_age_out_loss: 76.4422 - val_age_out_mae: 6.3720 - val_gender_out_accuracy: 0.8950 - val_gender_out_loss: 0.2479 - val_loss: 76.6901 - learning_rate: 1.0000e-06\n",
            "Epoch 85/100\n",
            "\u001b[1m149/149\u001b[0m \u001b[32m━━━━━━━━━━━━━━━━━━━━\u001b[0m\u001b[37m\u001b[0m \u001b[1m0s\u001b[0m 176ms/step - age_out_loss: 32.0505 - age_out_mae: 4.3397 - gender_out_accuracy: 0.9243 - gender_out_loss: 0.1886 - loss: 32.2391\n",
            "Epoch 85: val_gender_out_accuracy did not improve from 0.89540\n",
            "\u001b[1m149/149\u001b[0m \u001b[32m━━━━━━━━━━━━━━━━━━━━\u001b[0m\u001b[37m\u001b[0m \u001b[1m28s\u001b[0m 185ms/step - age_out_loss: 32.0518 - age_out_mae: 4.3397 - gender_out_accuracy: 0.9242 - gender_out_loss: 0.1886 - loss: 32.2404 - val_age_out_loss: 76.4342 - val_age_out_mae: 6.3724 - val_gender_out_accuracy: 0.8950 - val_gender_out_loss: 0.2480 - val_loss: 76.6823 - learning_rate: 1.0000e-06\n",
            "Epoch 86/100\n",
            "\u001b[1m149/149\u001b[0m \u001b[32m━━━━━━━━━━━━━━━━━━━━\u001b[0m\u001b[37m\u001b[0m \u001b[1m0s\u001b[0m 174ms/step - age_out_loss: 32.0623 - age_out_mae: 4.3310 - gender_out_accuracy: 0.9182 - gender_out_loss: 0.1997 - loss: 32.2619\n",
            "Epoch 86: val_gender_out_accuracy did not improve from 0.89540\n",
            "\u001b[1m149/149\u001b[0m \u001b[32m━━━━━━━━━━━━━━━━━━━━\u001b[0m\u001b[37m\u001b[0m \u001b[1m27s\u001b[0m 183ms/step - age_out_loss: 32.0594 - age_out_mae: 4.3308 - gender_out_accuracy: 0.9183 - gender_out_loss: 0.1996 - loss: 32.2591 - val_age_out_loss: 76.4440 - val_age_out_mae: 6.3737 - val_gender_out_accuracy: 0.8950 - val_gender_out_loss: 0.2480 - val_loss: 76.6920 - learning_rate: 1.0000e-06\n",
            "Epoch 87/100\n",
            "\u001b[1m149/149\u001b[0m \u001b[32m━━━━━━━━━━━━━━━━━━━━\u001b[0m\u001b[37m\u001b[0m \u001b[1m0s\u001b[0m 178ms/step - age_out_loss: 31.6938 - age_out_mae: 4.3010 - gender_out_accuracy: 0.9223 - gender_out_loss: 0.1943 - loss: 31.8881\n",
            "Epoch 87: val_gender_out_accuracy did not improve from 0.89540\n",
            "\u001b[1m149/149\u001b[0m \u001b[32m━━━━━━━━━━━━━━━━━━━━\u001b[0m\u001b[37m\u001b[0m \u001b[1m41s\u001b[0m 187ms/step - age_out_loss: 31.6944 - age_out_mae: 4.3010 - gender_out_accuracy: 0.9223 - gender_out_loss: 0.1943 - loss: 31.8887 - val_age_out_loss: 76.4642 - val_age_out_mae: 6.3759 - val_gender_out_accuracy: 0.8950 - val_gender_out_loss: 0.2479 - val_loss: 76.7122 - learning_rate: 1.0000e-06\n",
            "Epoch 88/100\n",
            "\u001b[1m149/149\u001b[0m \u001b[32m━━━━━━━━━━━━━━━━━━━━\u001b[0m\u001b[37m\u001b[0m \u001b[1m0s\u001b[0m 177ms/step - age_out_loss: 30.3943 - age_out_mae: 4.2194 - gender_out_accuracy: 0.9183 - gender_out_loss: 0.1950 - loss: 30.5893\n",
            "Epoch 88: val_gender_out_accuracy did not improve from 0.89540\n",
            "\u001b[1m149/149\u001b[0m \u001b[32m━━━━━━━━━━━━━━━━━━━━\u001b[0m\u001b[37m\u001b[0m \u001b[1m28s\u001b[0m 186ms/step - age_out_loss: 30.3991 - age_out_mae: 4.2196 - gender_out_accuracy: 0.9183 - gender_out_loss: 0.1950 - loss: 30.5940 - val_age_out_loss: 76.4904 - val_age_out_mae: 6.3767 - val_gender_out_accuracy: 0.8946 - val_gender_out_loss: 0.2479 - val_loss: 76.7383 - learning_rate: 1.0000e-06\n",
            "Epoch 89/100\n",
            "\u001b[1m149/149\u001b[0m \u001b[32m━━━━━━━━━━━━━━━━━━━━\u001b[0m\u001b[37m\u001b[0m \u001b[1m0s\u001b[0m 179ms/step - age_out_loss: 31.1294 - age_out_mae: 4.2555 - gender_out_accuracy: 0.9232 - gender_out_loss: 0.1930 - loss: 31.3224\n",
            "Epoch 89: val_gender_out_accuracy did not improve from 0.89540\n",
            "\u001b[1m149/149\u001b[0m \u001b[32m━━━━━━━━━━━━━━━━━━━━\u001b[0m\u001b[37m\u001b[0m \u001b[1m41s\u001b[0m 187ms/step - age_out_loss: 31.1307 - age_out_mae: 4.2556 - gender_out_accuracy: 0.9232 - gender_out_loss: 0.1930 - loss: 31.3237 - val_age_out_loss: 76.4783 - val_age_out_mae: 6.3734 - val_gender_out_accuracy: 0.8950 - val_gender_out_loss: 0.2478 - val_loss: 76.7262 - learning_rate: 1.0000e-06\n",
            "Epoch 90/100\n",
            "\u001b[1m149/149\u001b[0m \u001b[32m━━━━━━━━━━━━━━━━━━━━\u001b[0m\u001b[37m\u001b[0m \u001b[1m0s\u001b[0m 179ms/step - age_out_loss: 30.4408 - age_out_mae: 4.2239 - gender_out_accuracy: 0.9237 - gender_out_loss: 0.1918 - loss: 30.6326\n",
            "Epoch 90: val_gender_out_accuracy did not improve from 0.89540\n",
            "\u001b[1m149/149\u001b[0m \u001b[32m━━━━━━━━━━━━━━━━━━━━\u001b[0m\u001b[37m\u001b[0m \u001b[1m41s\u001b[0m 186ms/step - age_out_loss: 30.4466 - age_out_mae: 4.2241 - gender_out_accuracy: 0.9237 - gender_out_loss: 0.1918 - loss: 30.6384 - val_age_out_loss: 76.4579 - val_age_out_mae: 6.3743 - val_gender_out_accuracy: 0.8950 - val_gender_out_loss: 0.2478 - val_loss: 76.7056 - learning_rate: 1.0000e-06\n",
            "Epoch 91/100\n",
            "\u001b[1m149/149\u001b[0m \u001b[32m━━━━━━━━━━━━━━━━━━━━\u001b[0m\u001b[37m\u001b[0m \u001b[1m0s\u001b[0m 178ms/step - age_out_loss: 31.2674 - age_out_mae: 4.2671 - gender_out_accuracy: 0.9234 - gender_out_loss: 0.1959 - loss: 31.4633\n",
            "Epoch 91: val_gender_out_accuracy did not improve from 0.89540\n",
            "\u001b[1m149/149\u001b[0m \u001b[32m━━━━━━━━━━━━━━━━━━━━\u001b[0m\u001b[37m\u001b[0m \u001b[1m28s\u001b[0m 187ms/step - age_out_loss: 31.2703 - age_out_mae: 4.2673 - gender_out_accuracy: 0.9234 - gender_out_loss: 0.1959 - loss: 31.4663 - val_age_out_loss: 76.5092 - val_age_out_mae: 6.3802 - val_gender_out_accuracy: 0.8950 - val_gender_out_loss: 0.2479 - val_loss: 76.7571 - learning_rate: 1.0000e-06\n",
            "Epoch 92/100\n",
            "\u001b[1m149/149\u001b[0m \u001b[32m━━━━━━━━━━━━━━━━━━━━\u001b[0m\u001b[37m\u001b[0m \u001b[1m0s\u001b[0m 176ms/step - age_out_loss: 31.6510 - age_out_mae: 4.2928 - gender_out_accuracy: 0.9199 - gender_out_loss: 0.1971 - loss: 31.8481\n",
            "Epoch 92: val_gender_out_accuracy did not improve from 0.89540\n",
            "\u001b[1m149/149\u001b[0m \u001b[32m━━━━━━━━━━━━━━━━━━━━\u001b[0m\u001b[37m\u001b[0m \u001b[1m41s\u001b[0m 185ms/step - age_out_loss: 31.6525 - age_out_mae: 4.2929 - gender_out_accuracy: 0.9199 - gender_out_loss: 0.1971 - loss: 31.8495 - val_age_out_loss: 76.4951 - val_age_out_mae: 6.3776 - val_gender_out_accuracy: 0.8950 - val_gender_out_loss: 0.2479 - val_loss: 76.7429 - learning_rate: 1.0000e-06\n",
            "Epoch 93/100\n",
            "\u001b[1m149/149\u001b[0m \u001b[32m━━━━━━━━━━━━━━━━━━━━\u001b[0m\u001b[37m\u001b[0m \u001b[1m0s\u001b[0m 177ms/step - age_out_loss: 31.6047 - age_out_mae: 4.2973 - gender_out_accuracy: 0.9211 - gender_out_loss: 0.1941 - loss: 31.7988\n",
            "Epoch 93: val_gender_out_accuracy did not improve from 0.89540\n",
            "\u001b[1m149/149\u001b[0m \u001b[32m━━━━━━━━━━━━━━━━━━━━\u001b[0m\u001b[37m\u001b[0m \u001b[1m41s\u001b[0m 186ms/step - age_out_loss: 31.6048 - age_out_mae: 4.2973 - gender_out_accuracy: 0.9211 - gender_out_loss: 0.1941 - loss: 31.7989 - val_age_out_loss: 76.4805 - val_age_out_mae: 6.3782 - val_gender_out_accuracy: 0.8950 - val_gender_out_loss: 0.2479 - val_loss: 76.7285 - learning_rate: 1.0000e-06\n",
            "Epoch 94/100\n",
            "\u001b[1m149/149\u001b[0m \u001b[32m━━━━━━━━━━━━━━━━━━━━\u001b[0m\u001b[37m\u001b[0m \u001b[1m0s\u001b[0m 175ms/step - age_out_loss: 32.3699 - age_out_mae: 4.3319 - gender_out_accuracy: 0.9211 - gender_out_loss: 0.1960 - loss: 32.5659\n",
            "Epoch 94: val_gender_out_accuracy did not improve from 0.89540\n",
            "\u001b[1m149/149\u001b[0m \u001b[32m━━━━━━━━━━━━━━━━━━━━\u001b[0m\u001b[37m\u001b[0m \u001b[1m28s\u001b[0m 184ms/step - age_out_loss: 32.3646 - age_out_mae: 4.3316 - gender_out_accuracy: 0.9211 - gender_out_loss: 0.1959 - loss: 32.5606 - val_age_out_loss: 76.4958 - val_age_out_mae: 6.3778 - val_gender_out_accuracy: 0.8950 - val_gender_out_loss: 0.2479 - val_loss: 76.7437 - learning_rate: 1.0000e-06\n",
            "Epoch 95/100\n",
            "\u001b[1m149/149\u001b[0m \u001b[32m━━━━━━━━━━━━━━━━━━━━\u001b[0m\u001b[37m\u001b[0m \u001b[1m0s\u001b[0m 173ms/step - age_out_loss: 31.9531 - age_out_mae: 4.2874 - gender_out_accuracy: 0.9212 - gender_out_loss: 0.1929 - loss: 32.1460\n",
            "Epoch 95: val_gender_out_accuracy did not improve from 0.89540\n",
            "\u001b[1m149/149\u001b[0m \u001b[32m━━━━━━━━━━━━━━━━━━━━\u001b[0m\u001b[37m\u001b[0m \u001b[1m27s\u001b[0m 182ms/step - age_out_loss: 31.9494 - age_out_mae: 4.2872 - gender_out_accuracy: 0.9212 - gender_out_loss: 0.1929 - loss: 32.1423 - val_age_out_loss: 76.5140 - val_age_out_mae: 6.3796 - val_gender_out_accuracy: 0.8950 - val_gender_out_loss: 0.2479 - val_loss: 76.7619 - learning_rate: 1.0000e-06\n",
            "Epoch 96/100\n",
            "\u001b[1m149/149\u001b[0m \u001b[32m━━━━━━━━━━━━━━━━━━━━\u001b[0m\u001b[37m\u001b[0m \u001b[1m0s\u001b[0m 176ms/step - age_out_loss: 32.0875 - age_out_mae: 4.3009 - gender_out_accuracy: 0.9251 - gender_out_loss: 0.1938 - loss: 32.2813\n",
            "Epoch 96: val_gender_out_accuracy did not improve from 0.89540\n",
            "\u001b[1m149/149\u001b[0m \u001b[32m━━━━━━━━━━━━━━━━━━━━\u001b[0m\u001b[37m\u001b[0m \u001b[1m41s\u001b[0m 185ms/step - age_out_loss: 32.0838 - age_out_mae: 4.3008 - gender_out_accuracy: 0.9251 - gender_out_loss: 0.1938 - loss: 32.2776 - val_age_out_loss: 76.4996 - val_age_out_mae: 6.3778 - val_gender_out_accuracy: 0.8950 - val_gender_out_loss: 0.2480 - val_loss: 76.7475 - learning_rate: 1.0000e-06\n",
            "Epoch 97/100\n",
            "\u001b[1m149/149\u001b[0m \u001b[32m━━━━━━━━━━━━━━━━━━━━\u001b[0m\u001b[37m\u001b[0m \u001b[1m0s\u001b[0m 176ms/step - age_out_loss: 31.8618 - age_out_mae: 4.3053 - gender_out_accuracy: 0.9221 - gender_out_loss: 0.1919 - loss: 32.0537\n",
            "Epoch 97: val_gender_out_accuracy did not improve from 0.89540\n",
            "\u001b[1m149/149\u001b[0m \u001b[32m━━━━━━━━━━━━━━━━━━━━\u001b[0m\u001b[37m\u001b[0m \u001b[1m41s\u001b[0m 185ms/step - age_out_loss: 31.8592 - age_out_mae: 4.3051 - gender_out_accuracy: 0.9222 - gender_out_loss: 0.1919 - loss: 32.0511 - val_age_out_loss: 76.4849 - val_age_out_mae: 6.3779 - val_gender_out_accuracy: 0.8950 - val_gender_out_loss: 0.2480 - val_loss: 76.7329 - learning_rate: 1.0000e-06\n",
            "Epoch 98/100\n",
            "\u001b[1m149/149\u001b[0m \u001b[32m━━━━━━━━━━━━━━━━━━━━\u001b[0m\u001b[37m\u001b[0m \u001b[1m0s\u001b[0m 176ms/step - age_out_loss: 31.3790 - age_out_mae: 4.2692 - gender_out_accuracy: 0.9204 - gender_out_loss: 0.1991 - loss: 31.5781\n",
            "Epoch 98: val_gender_out_accuracy did not improve from 0.89540\n",
            "\u001b[1m149/149\u001b[0m \u001b[32m━━━━━━━━━━━━━━━━━━━━\u001b[0m\u001b[37m\u001b[0m \u001b[1m41s\u001b[0m 183ms/step - age_out_loss: 31.3807 - age_out_mae: 4.2694 - gender_out_accuracy: 0.9204 - gender_out_loss: 0.1991 - loss: 31.5797 - val_age_out_loss: 76.4938 - val_age_out_mae: 6.3791 - val_gender_out_accuracy: 0.8950 - val_gender_out_loss: 0.2480 - val_loss: 76.7418 - learning_rate: 1.0000e-06\n",
            "Epoch 99/100\n",
            "\u001b[1m149/149\u001b[0m \u001b[32m━━━━━━━━━━━━━━━━━━━━\u001b[0m\u001b[37m\u001b[0m \u001b[1m0s\u001b[0m 177ms/step - age_out_loss: 31.5343 - age_out_mae: 4.2890 - gender_out_accuracy: 0.9208 - gender_out_loss: 0.1893 - loss: 31.7237\n",
            "Epoch 99: val_gender_out_accuracy did not improve from 0.89540\n",
            "\u001b[1m149/149\u001b[0m \u001b[32m━━━━━━━━━━━━━━━━━━━━\u001b[0m\u001b[37m\u001b[0m \u001b[1m41s\u001b[0m 186ms/step - age_out_loss: 31.5316 - age_out_mae: 4.2888 - gender_out_accuracy: 0.9208 - gender_out_loss: 0.1893 - loss: 31.7209 - val_age_out_loss: 76.4948 - val_age_out_mae: 6.3768 - val_gender_out_accuracy: 0.8950 - val_gender_out_loss: 0.2480 - val_loss: 76.7427 - learning_rate: 1.0000e-06\n",
            "Epoch 100/100\n",
            "\u001b[1m149/149\u001b[0m \u001b[32m━━━━━━━━━━━━━━━━━━━━\u001b[0m\u001b[37m\u001b[0m \u001b[1m0s\u001b[0m 177ms/step - age_out_loss: 30.8713 - age_out_mae: 4.2385 - gender_out_accuracy: 0.9177 - gender_out_loss: 0.1988 - loss: 31.0701\n",
            "Epoch 100: val_gender_out_accuracy did not improve from 0.89540\n",
            "\u001b[1m149/149\u001b[0m \u001b[32m━━━━━━━━━━━━━━━━━━━━\u001b[0m\u001b[37m\u001b[0m \u001b[1m41s\u001b[0m 186ms/step - age_out_loss: 30.8746 - age_out_mae: 4.2388 - gender_out_accuracy: 0.9177 - gender_out_loss: 0.1988 - loss: 31.0734 - val_age_out_loss: 76.5077 - val_age_out_mae: 6.3772 - val_gender_out_accuracy: 0.8950 - val_gender_out_loss: 0.2479 - val_loss: 76.7556 - learning_rate: 1.0000e-06\n"
          ]
        }
      ],
      "execution_count": null
    },
    {
      "cell_type": "code",
      "source": [
        "model.save('age_gender_model_v.keras')"
      ],
      "metadata": {
        "id": "Rub2Mqk-hzbS"
      },
      "execution_count": null,
      "outputs": []
    },
    {
      "cell_type": "code",
      "source": [
        "from google.colab import files\n",
        "files.download('age_gender_model_v.keras')"
      ],
      "metadata": {
        "colab": {
          "base_uri": "https://localhost:8080/",
          "height": 17
        },
        "id": "72o6YMNAiXA6",
        "outputId": "ae952a16-d1a0-40aa-84e7-d43ab6ae2778"
      },
      "execution_count": null,
      "outputs": [
        {
          "output_type": "display_data",
          "data": {
            "text/plain": [
              "<IPython.core.display.Javascript object>"
            ],
            "application/javascript": [
              "\n",
              "    async function download(id, filename, size) {\n",
              "      if (!google.colab.kernel.accessAllowed) {\n",
              "        return;\n",
              "      }\n",
              "      const div = document.createElement('div');\n",
              "      const label = document.createElement('label');\n",
              "      label.textContent = `Downloading \"${filename}\": `;\n",
              "      div.appendChild(label);\n",
              "      const progress = document.createElement('progress');\n",
              "      progress.max = size;\n",
              "      div.appendChild(progress);\n",
              "      document.body.appendChild(div);\n",
              "\n",
              "      const buffers = [];\n",
              "      let downloaded = 0;\n",
              "\n",
              "      const channel = await google.colab.kernel.comms.open(id);\n",
              "      // Send a message to notify the kernel that we're ready.\n",
              "      channel.send({})\n",
              "\n",
              "      for await (const message of channel.messages) {\n",
              "        // Send a message to notify the kernel that we're ready.\n",
              "        channel.send({})\n",
              "        if (message.buffers) {\n",
              "          for (const buffer of message.buffers) {\n",
              "            buffers.push(buffer);\n",
              "            downloaded += buffer.byteLength;\n",
              "            progress.value = downloaded;\n",
              "          }\n",
              "        }\n",
              "      }\n",
              "      const blob = new Blob(buffers, {type: 'application/binary'});\n",
              "      const a = document.createElement('a');\n",
              "      a.href = window.URL.createObjectURL(blob);\n",
              "      a.download = filename;\n",
              "      div.appendChild(a);\n",
              "      a.click();\n",
              "      div.remove();\n",
              "    }\n",
              "  "
            ]
          },
          "metadata": {}
        },
        {
          "output_type": "display_data",
          "data": {
            "text/plain": [
              "<IPython.core.display.Javascript object>"
            ],
            "application/javascript": [
              "download(\"download_3ed1e186-6f24-416f-818c-d30e1fd7eade\", \"age_gender_model_v.keras\", 61361489)"
            ]
          },
          "metadata": {}
        }
      ]
    }
  ]
}